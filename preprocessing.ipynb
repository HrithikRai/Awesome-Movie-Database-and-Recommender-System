{
 "cells": [
  {
   "cell_type": "markdown",
   "id": "unsigned-syndrome",
   "metadata": {},
   "source": [
    "# Data Preprocessing "
   ]
  },
  {
   "cell_type": "markdown",
   "id": "motivated-logan",
   "metadata": {},
   "source": [
    "# Data Preprocessing on given csv files from the MovieLens 25m dataset (https://grouplens.org/datasets/movielens/25m/):"
   ]
  },
  {
   "cell_type": "code",
   "execution_count": 1,
   "id": "olympic-reliance",
   "metadata": {},
   "outputs": [],
   "source": [
    "import pandas as pd"
   ]
  },
  {
   "cell_type": "code",
   "execution_count": 1,
   "id": "unavailable-principle",
   "metadata": {},
   "outputs": [],
   "source": [
    "import pickle"
   ]
  },
  {
   "cell_type": "code",
   "execution_count": 2,
   "id": "powerful-miniature",
   "metadata": {},
   "outputs": [
    {
     "name": "stdout",
     "output_type": "stream",
     "text": [
      "(62423, 3)\n",
      "<class 'pandas.core.frame.DataFrame'>\n",
      "RangeIndex: 62423 entries, 0 to 62422\n",
      "Data columns (total 3 columns):\n",
      " #   Column   Non-Null Count  Dtype \n",
      "---  ------   --------------  ----- \n",
      " 0   movieId  62423 non-null  int64 \n",
      " 1   title    62423 non-null  object\n",
      " 2   genres   62423 non-null  object\n",
      "dtypes: int64(1), object(2)\n",
      "memory usage: 1.4+ MB\n"
     ]
    },
    {
     "data": {
      "text/html": [
       "<div>\n",
       "<style scoped>\n",
       "    .dataframe tbody tr th:only-of-type {\n",
       "        vertical-align: middle;\n",
       "    }\n",
       "\n",
       "    .dataframe tbody tr th {\n",
       "        vertical-align: top;\n",
       "    }\n",
       "\n",
       "    .dataframe thead th {\n",
       "        text-align: right;\n",
       "    }\n",
       "</style>\n",
       "<table border=\"1\" class=\"dataframe\">\n",
       "  <thead>\n",
       "    <tr style=\"text-align: right;\">\n",
       "      <th></th>\n",
       "      <th>movieId</th>\n",
       "      <th>title</th>\n",
       "      <th>genres</th>\n",
       "    </tr>\n",
       "  </thead>\n",
       "  <tbody>\n",
       "    <tr>\n",
       "      <th>0</th>\n",
       "      <td>1</td>\n",
       "      <td>Toy Story (1995)</td>\n",
       "      <td>Adventure|Animation|Children|Comedy|Fantasy</td>\n",
       "    </tr>\n",
       "    <tr>\n",
       "      <th>1</th>\n",
       "      <td>2</td>\n",
       "      <td>Jumanji (1995)</td>\n",
       "      <td>Adventure|Children|Fantasy</td>\n",
       "    </tr>\n",
       "    <tr>\n",
       "      <th>2</th>\n",
       "      <td>3</td>\n",
       "      <td>Grumpier Old Men (1995)</td>\n",
       "      <td>Comedy|Romance</td>\n",
       "    </tr>\n",
       "    <tr>\n",
       "      <th>3</th>\n",
       "      <td>4</td>\n",
       "      <td>Waiting to Exhale (1995)</td>\n",
       "      <td>Comedy|Drama|Romance</td>\n",
       "    </tr>\n",
       "    <tr>\n",
       "      <th>4</th>\n",
       "      <td>5</td>\n",
       "      <td>Father of the Bride Part II (1995)</td>\n",
       "      <td>Comedy</td>\n",
       "    </tr>\n",
       "  </tbody>\n",
       "</table>\n",
       "</div>"
      ],
      "text/plain": [
       "   movieId                               title  \\\n",
       "0        1                    Toy Story (1995)   \n",
       "1        2                      Jumanji (1995)   \n",
       "2        3             Grumpier Old Men (1995)   \n",
       "3        4            Waiting to Exhale (1995)   \n",
       "4        5  Father of the Bride Part II (1995)   \n",
       "\n",
       "                                        genres  \n",
       "0  Adventure|Animation|Children|Comedy|Fantasy  \n",
       "1                   Adventure|Children|Fantasy  \n",
       "2                               Comedy|Romance  \n",
       "3                         Comedy|Drama|Romance  \n",
       "4                                       Comedy  "
      ]
     },
     "execution_count": 2,
     "metadata": {},
     "output_type": "execute_result"
    }
   ],
   "source": [
    "movies_data = pd.read_csv(r\"movies.csv\")\n",
    "print(movies_data.shape)\n",
    "movies_data.info()\n",
    "movies_data.head(5)"
   ]
  },
  {
   "cell_type": "code",
   "execution_count": 3,
   "id": "bacterial-trustee",
   "metadata": {},
   "outputs": [
    {
     "name": "stdout",
     "output_type": "stream",
     "text": [
      "(25000095, 4)\n",
      "<class 'pandas.core.frame.DataFrame'>\n",
      "RangeIndex: 25000095 entries, 0 to 25000094\n",
      "Data columns (total 4 columns):\n",
      " #   Column     Dtype  \n",
      "---  ------     -----  \n",
      " 0   userId     int64  \n",
      " 1   movieId    int64  \n",
      " 2   rating     float64\n",
      " 3   timestamp  int64  \n",
      "dtypes: float64(1), int64(3)\n",
      "memory usage: 762.9 MB\n"
     ]
    },
    {
     "data": {
      "text/html": [
       "<div>\n",
       "<style scoped>\n",
       "    .dataframe tbody tr th:only-of-type {\n",
       "        vertical-align: middle;\n",
       "    }\n",
       "\n",
       "    .dataframe tbody tr th {\n",
       "        vertical-align: top;\n",
       "    }\n",
       "\n",
       "    .dataframe thead th {\n",
       "        text-align: right;\n",
       "    }\n",
       "</style>\n",
       "<table border=\"1\" class=\"dataframe\">\n",
       "  <thead>\n",
       "    <tr style=\"text-align: right;\">\n",
       "      <th></th>\n",
       "      <th>userId</th>\n",
       "      <th>movieId</th>\n",
       "      <th>rating</th>\n",
       "      <th>timestamp</th>\n",
       "    </tr>\n",
       "  </thead>\n",
       "  <tbody>\n",
       "    <tr>\n",
       "      <th>0</th>\n",
       "      <td>1</td>\n",
       "      <td>296</td>\n",
       "      <td>5.0</td>\n",
       "      <td>1147880044</td>\n",
       "    </tr>\n",
       "    <tr>\n",
       "      <th>1</th>\n",
       "      <td>1</td>\n",
       "      <td>306</td>\n",
       "      <td>3.5</td>\n",
       "      <td>1147868817</td>\n",
       "    </tr>\n",
       "    <tr>\n",
       "      <th>2</th>\n",
       "      <td>1</td>\n",
       "      <td>307</td>\n",
       "      <td>5.0</td>\n",
       "      <td>1147868828</td>\n",
       "    </tr>\n",
       "    <tr>\n",
       "      <th>3</th>\n",
       "      <td>1</td>\n",
       "      <td>665</td>\n",
       "      <td>5.0</td>\n",
       "      <td>1147878820</td>\n",
       "    </tr>\n",
       "    <tr>\n",
       "      <th>4</th>\n",
       "      <td>1</td>\n",
       "      <td>899</td>\n",
       "      <td>3.5</td>\n",
       "      <td>1147868510</td>\n",
       "    </tr>\n",
       "  </tbody>\n",
       "</table>\n",
       "</div>"
      ],
      "text/plain": [
       "   userId  movieId  rating   timestamp\n",
       "0       1      296     5.0  1147880044\n",
       "1       1      306     3.5  1147868817\n",
       "2       1      307     5.0  1147868828\n",
       "3       1      665     5.0  1147878820\n",
       "4       1      899     3.5  1147868510"
      ]
     },
     "execution_count": 3,
     "metadata": {},
     "output_type": "execute_result"
    }
   ],
   "source": [
    "ratings_data = pd.read_csv(r\"ratings.csv\")\n",
    "print(ratings_data.shape)\n",
    "ratings_data.info()\n",
    "ratings_data.head(5)"
   ]
  },
  {
   "cell_type": "code",
   "execution_count": 4,
   "id": "renewable-genetics",
   "metadata": {},
   "outputs": [
    {
     "name": "stdout",
     "output_type": "stream",
     "text": [
      "(1093360, 4)\n",
      "<class 'pandas.core.frame.DataFrame'>\n",
      "RangeIndex: 1093360 entries, 0 to 1093359\n",
      "Data columns (total 4 columns):\n",
      " #   Column     Non-Null Count    Dtype \n",
      "---  ------     --------------    ----- \n",
      " 0   userId     1093360 non-null  int64 \n",
      " 1   movieId    1093360 non-null  int64 \n",
      " 2   tag        1093344 non-null  object\n",
      " 3   timestamp  1093360 non-null  int64 \n",
      "dtypes: int64(3), object(1)\n",
      "memory usage: 33.4+ MB\n"
     ]
    },
    {
     "data": {
      "text/html": [
       "<div>\n",
       "<style scoped>\n",
       "    .dataframe tbody tr th:only-of-type {\n",
       "        vertical-align: middle;\n",
       "    }\n",
       "\n",
       "    .dataframe tbody tr th {\n",
       "        vertical-align: top;\n",
       "    }\n",
       "\n",
       "    .dataframe thead th {\n",
       "        text-align: right;\n",
       "    }\n",
       "</style>\n",
       "<table border=\"1\" class=\"dataframe\">\n",
       "  <thead>\n",
       "    <tr style=\"text-align: right;\">\n",
       "      <th></th>\n",
       "      <th>userId</th>\n",
       "      <th>movieId</th>\n",
       "      <th>tag</th>\n",
       "      <th>timestamp</th>\n",
       "    </tr>\n",
       "  </thead>\n",
       "  <tbody>\n",
       "    <tr>\n",
       "      <th>0</th>\n",
       "      <td>3</td>\n",
       "      <td>260</td>\n",
       "      <td>classic</td>\n",
       "      <td>1439472355</td>\n",
       "    </tr>\n",
       "    <tr>\n",
       "      <th>1</th>\n",
       "      <td>3</td>\n",
       "      <td>260</td>\n",
       "      <td>sci-fi</td>\n",
       "      <td>1439472256</td>\n",
       "    </tr>\n",
       "    <tr>\n",
       "      <th>2</th>\n",
       "      <td>4</td>\n",
       "      <td>1732</td>\n",
       "      <td>dark comedy</td>\n",
       "      <td>1573943598</td>\n",
       "    </tr>\n",
       "    <tr>\n",
       "      <th>3</th>\n",
       "      <td>4</td>\n",
       "      <td>1732</td>\n",
       "      <td>great dialogue</td>\n",
       "      <td>1573943604</td>\n",
       "    </tr>\n",
       "    <tr>\n",
       "      <th>4</th>\n",
       "      <td>4</td>\n",
       "      <td>7569</td>\n",
       "      <td>so bad it's good</td>\n",
       "      <td>1573943455</td>\n",
       "    </tr>\n",
       "  </tbody>\n",
       "</table>\n",
       "</div>"
      ],
      "text/plain": [
       "   userId  movieId               tag   timestamp\n",
       "0       3      260           classic  1439472355\n",
       "1       3      260            sci-fi  1439472256\n",
       "2       4     1732       dark comedy  1573943598\n",
       "3       4     1732    great dialogue  1573943604\n",
       "4       4     7569  so bad it's good  1573943455"
      ]
     },
     "execution_count": 4,
     "metadata": {},
     "output_type": "execute_result"
    }
   ],
   "source": [
    "tags = pd.read_csv(r\"tags.csv\")\n",
    "print(tags.shape)\n",
    "tags.info()\n",
    "tags.head(5)"
   ]
  },
  {
   "cell_type": "code",
   "execution_count": 6,
   "id": "shared-municipality",
   "metadata": {},
   "outputs": [
    {
     "name": "stdout",
     "output_type": "stream",
     "text": [
      "(62423, 3)\n",
      "<class 'pandas.core.frame.DataFrame'>\n",
      "RangeIndex: 62423 entries, 0 to 62422\n",
      "Data columns (total 3 columns):\n",
      " #   Column   Non-Null Count  Dtype  \n",
      "---  ------   --------------  -----  \n",
      " 0   movieId  62423 non-null  int64  \n",
      " 1   imdbId   62423 non-null  int64  \n",
      " 2   tmdbId   62316 non-null  float64\n",
      "dtypes: float64(1), int64(2)\n",
      "memory usage: 1.4 MB\n"
     ]
    },
    {
     "data": {
      "text/html": [
       "<div>\n",
       "<style scoped>\n",
       "    .dataframe tbody tr th:only-of-type {\n",
       "        vertical-align: middle;\n",
       "    }\n",
       "\n",
       "    .dataframe tbody tr th {\n",
       "        vertical-align: top;\n",
       "    }\n",
       "\n",
       "    .dataframe thead th {\n",
       "        text-align: right;\n",
       "    }\n",
       "</style>\n",
       "<table border=\"1\" class=\"dataframe\">\n",
       "  <thead>\n",
       "    <tr style=\"text-align: right;\">\n",
       "      <th></th>\n",
       "      <th>movieId</th>\n",
       "      <th>imdbId</th>\n",
       "      <th>tmdbId</th>\n",
       "    </tr>\n",
       "  </thead>\n",
       "  <tbody>\n",
       "    <tr>\n",
       "      <th>0</th>\n",
       "      <td>1</td>\n",
       "      <td>114709</td>\n",
       "      <td>862.0</td>\n",
       "    </tr>\n",
       "    <tr>\n",
       "      <th>1</th>\n",
       "      <td>2</td>\n",
       "      <td>113497</td>\n",
       "      <td>8844.0</td>\n",
       "    </tr>\n",
       "    <tr>\n",
       "      <th>2</th>\n",
       "      <td>3</td>\n",
       "      <td>113228</td>\n",
       "      <td>15602.0</td>\n",
       "    </tr>\n",
       "    <tr>\n",
       "      <th>3</th>\n",
       "      <td>4</td>\n",
       "      <td>114885</td>\n",
       "      <td>31357.0</td>\n",
       "    </tr>\n",
       "    <tr>\n",
       "      <th>4</th>\n",
       "      <td>5</td>\n",
       "      <td>113041</td>\n",
       "      <td>11862.0</td>\n",
       "    </tr>\n",
       "  </tbody>\n",
       "</table>\n",
       "</div>"
      ],
      "text/plain": [
       "   movieId  imdbId   tmdbId\n",
       "0        1  114709    862.0\n",
       "1        2  113497   8844.0\n",
       "2        3  113228  15602.0\n",
       "3        4  114885  31357.0\n",
       "4        5  113041  11862.0"
      ]
     },
     "execution_count": 6,
     "metadata": {},
     "output_type": "execute_result"
    }
   ],
   "source": [
    "links = pd.read_csv(r\"links.csv\")\n",
    "print(links.shape)\n",
    "links.info()\n",
    "links.head(5)"
   ]
  },
  {
   "cell_type": "code",
   "execution_count": 8,
   "id": "ready-occupation",
   "metadata": {},
   "outputs": [
    {
     "name": "stdout",
     "output_type": "stream",
     "text": [
      "(1128, 2)\n",
      "<class 'pandas.core.frame.DataFrame'>\n",
      "RangeIndex: 1128 entries, 0 to 1127\n",
      "Data columns (total 2 columns):\n",
      " #   Column  Non-Null Count  Dtype \n",
      "---  ------  --------------  ----- \n",
      " 0   tagId   1128 non-null   int64 \n",
      " 1   tag     1128 non-null   object\n",
      "dtypes: int64(1), object(1)\n",
      "memory usage: 17.8+ KB\n"
     ]
    },
    {
     "data": {
      "text/html": [
       "<div>\n",
       "<style scoped>\n",
       "    .dataframe tbody tr th:only-of-type {\n",
       "        vertical-align: middle;\n",
       "    }\n",
       "\n",
       "    .dataframe tbody tr th {\n",
       "        vertical-align: top;\n",
       "    }\n",
       "\n",
       "    .dataframe thead th {\n",
       "        text-align: right;\n",
       "    }\n",
       "</style>\n",
       "<table border=\"1\" class=\"dataframe\">\n",
       "  <thead>\n",
       "    <tr style=\"text-align: right;\">\n",
       "      <th></th>\n",
       "      <th>tagId</th>\n",
       "      <th>tag</th>\n",
       "    </tr>\n",
       "  </thead>\n",
       "  <tbody>\n",
       "    <tr>\n",
       "      <th>0</th>\n",
       "      <td>1</td>\n",
       "      <td>007</td>\n",
       "    </tr>\n",
       "    <tr>\n",
       "      <th>1</th>\n",
       "      <td>2</td>\n",
       "      <td>007 (series)</td>\n",
       "    </tr>\n",
       "    <tr>\n",
       "      <th>2</th>\n",
       "      <td>3</td>\n",
       "      <td>18th century</td>\n",
       "    </tr>\n",
       "    <tr>\n",
       "      <th>3</th>\n",
       "      <td>4</td>\n",
       "      <td>1920s</td>\n",
       "    </tr>\n",
       "    <tr>\n",
       "      <th>4</th>\n",
       "      <td>5</td>\n",
       "      <td>1930s</td>\n",
       "    </tr>\n",
       "  </tbody>\n",
       "</table>\n",
       "</div>"
      ],
      "text/plain": [
       "   tagId           tag\n",
       "0      1           007\n",
       "1      2  007 (series)\n",
       "2      3  18th century\n",
       "3      4         1920s\n",
       "4      5         1930s"
      ]
     },
     "execution_count": 8,
     "metadata": {},
     "output_type": "execute_result"
    }
   ],
   "source": [
    "genome_tags = pd.read_csv(r\"genome-tags.csv\")\n",
    "print(genome_tags.shape)\n",
    "genome_tags.info()\n",
    "genome_tags.head(5)"
   ]
  },
  {
   "cell_type": "code",
   "execution_count": 9,
   "id": "judicial-exchange",
   "metadata": {},
   "outputs": [
    {
     "name": "stdout",
     "output_type": "stream",
     "text": [
      "(15584448, 3)\n",
      "<class 'pandas.core.frame.DataFrame'>\n",
      "RangeIndex: 15584448 entries, 0 to 15584447\n",
      "Data columns (total 3 columns):\n",
      " #   Column     Dtype  \n",
      "---  ------     -----  \n",
      " 0   movieId    int64  \n",
      " 1   tagId      int64  \n",
      " 2   relevance  float64\n",
      "dtypes: float64(1), int64(2)\n",
      "memory usage: 356.7 MB\n"
     ]
    },
    {
     "data": {
      "text/html": [
       "<div>\n",
       "<style scoped>\n",
       "    .dataframe tbody tr th:only-of-type {\n",
       "        vertical-align: middle;\n",
       "    }\n",
       "\n",
       "    .dataframe tbody tr th {\n",
       "        vertical-align: top;\n",
       "    }\n",
       "\n",
       "    .dataframe thead th {\n",
       "        text-align: right;\n",
       "    }\n",
       "</style>\n",
       "<table border=\"1\" class=\"dataframe\">\n",
       "  <thead>\n",
       "    <tr style=\"text-align: right;\">\n",
       "      <th></th>\n",
       "      <th>movieId</th>\n",
       "      <th>tagId</th>\n",
       "      <th>relevance</th>\n",
       "    </tr>\n",
       "  </thead>\n",
       "  <tbody>\n",
       "    <tr>\n",
       "      <th>0</th>\n",
       "      <td>1</td>\n",
       "      <td>1</td>\n",
       "      <td>0.02875</td>\n",
       "    </tr>\n",
       "    <tr>\n",
       "      <th>1</th>\n",
       "      <td>1</td>\n",
       "      <td>2</td>\n",
       "      <td>0.02375</td>\n",
       "    </tr>\n",
       "    <tr>\n",
       "      <th>2</th>\n",
       "      <td>1</td>\n",
       "      <td>3</td>\n",
       "      <td>0.06250</td>\n",
       "    </tr>\n",
       "    <tr>\n",
       "      <th>3</th>\n",
       "      <td>1</td>\n",
       "      <td>4</td>\n",
       "      <td>0.07575</td>\n",
       "    </tr>\n",
       "    <tr>\n",
       "      <th>4</th>\n",
       "      <td>1</td>\n",
       "      <td>5</td>\n",
       "      <td>0.14075</td>\n",
       "    </tr>\n",
       "  </tbody>\n",
       "</table>\n",
       "</div>"
      ],
      "text/plain": [
       "   movieId  tagId  relevance\n",
       "0        1      1    0.02875\n",
       "1        1      2    0.02375\n",
       "2        1      3    0.06250\n",
       "3        1      4    0.07575\n",
       "4        1      5    0.14075"
      ]
     },
     "execution_count": 9,
     "metadata": {},
     "output_type": "execute_result"
    }
   ],
   "source": [
    "genome_scores = pd.read_csv(r\"genome-scores.csv\")\n",
    "print(genome_scores.shape)\n",
    "genome_scores.info()\n",
    "genome_scores.head(5)"
   ]
  },
  {
   "cell_type": "markdown",
   "id": "electrical-nelson",
   "metadata": {},
   "source": [
    "# DataFrames Manipulations"
   ]
  },
  {
   "cell_type": "code",
   "execution_count": null,
   "id": "cooperative-rebecca",
   "metadata": {},
   "outputs": [],
   "source": [
    "movies_data = movies_data.sort_values(by=['title'])\n",
    "ratings_data['movieId']=ratings_data.movieId.astype('category')"
   ]
  },
  {
   "cell_type": "code",
   "execution_count": null,
   "id": "approximate-galaxy",
   "metadata": {},
   "outputs": [],
   "source": [
    "data = pd.merge(movies_data,ratings_data.groupby('movieId').rating.mean(),on=\"movieId\")\n",
    "data = pd.merge(data,ratings_data.groupby(\"movieId\").userId.count(),on=\"movieId\")\n",
    "data.rename(columns={'rating':'avg_rating'},inplace=True)\n",
    "data.rename(columns={'userId':'num_ratings'},inplace=True)"
   ]
  },
  {
   "cell_type": "code",
   "execution_count": null,
   "id": "premium-pacific",
   "metadata": {},
   "outputs": [],
   "source": [
    "links.drop(['imdbId'],axis=1,inplace=True)"
   ]
  },
  {
   "cell_type": "markdown",
   "id": "initial-banner",
   "metadata": {},
   "source": [
    "# Task 3 - Giving top 10 best rated movies - Laplace's rule of succession"
   ]
  },
  {
   "cell_type": "markdown",
   "id": "polish-somewhere",
   "metadata": {},
   "source": [
    "### We have a dilemma here, there are a lot of movies that have a perfect 5 rating but only rated by one or few users. While others have a rating like 4.5 but rated by thousands of user. So while suggesting the best rated movies which option should we go for?\n",
    "\n",
    "### Here comes in the Laplace's rule of succession: Absolute High Rating vs The confidence gained by more data\n",
    "\n",
    "#### For a movie with perfect 5 rating but only 1 rater. We assume that there are 2 more users who have given a 5 and 1 rating. Now the average rating falls down to (5+5+1)/3 = 3.66. This process is repeated for every other movie and the results according to this new ratings are fetched "
   ]
  },
  {
   "cell_type": "markdown",
   "id": "forty-manual",
   "metadata": {},
   "source": [
    "### To our average ratings table we will add one more column at which will calculate the laplace's average:\n",
    "\n",
    "###  current avg rating + (5+1)/num_ratings"
   ]
  },
  {
   "cell_type": "code",
   "execution_count": 57,
   "id": "decreased-anger",
   "metadata": {},
   "outputs": [],
   "source": [
    "data['lap_avg'] = ((data.avg_rating*data.num_ratings) + 6)/(data.num_ratings+2)"
   ]
  },
  {
   "cell_type": "code",
   "execution_count": 58,
   "id": "inside-gabriel",
   "metadata": {},
   "outputs": [
    {
     "data": {
      "text/html": [
       "<div>\n",
       "<style scoped>\n",
       "    .dataframe tbody tr th:only-of-type {\n",
       "        vertical-align: middle;\n",
       "    }\n",
       "\n",
       "    .dataframe tbody tr th {\n",
       "        vertical-align: top;\n",
       "    }\n",
       "\n",
       "    .dataframe thead th {\n",
       "        text-align: right;\n",
       "    }\n",
       "</style>\n",
       "<table border=\"1\" class=\"dataframe\">\n",
       "  <thead>\n",
       "    <tr style=\"text-align: right;\">\n",
       "      <th></th>\n",
       "      <th>movieId</th>\n",
       "      <th>title</th>\n",
       "      <th>genres</th>\n",
       "      <th>avg_rating</th>\n",
       "      <th>num_ratings</th>\n",
       "      <th>lap_avg</th>\n",
       "    </tr>\n",
       "  </thead>\n",
       "  <tbody>\n",
       "    <tr>\n",
       "      <th>0</th>\n",
       "      <td>208297</td>\n",
       "      <td>\"BLOW THE NIGHT!\" Let's Spend the Night Togeth...</td>\n",
       "      <td>Documentary|Drama</td>\n",
       "      <td>3.000000</td>\n",
       "      <td>1</td>\n",
       "      <td>3.000000</td>\n",
       "    </tr>\n",
       "    <tr>\n",
       "      <th>1</th>\n",
       "      <td>51372</td>\n",
       "      <td>\"Great Performances\" Cats (1998)</td>\n",
       "      <td>Musical</td>\n",
       "      <td>2.896648</td>\n",
       "      <td>179</td>\n",
       "      <td>2.897790</td>\n",
       "    </tr>\n",
       "    <tr>\n",
       "      <th>2</th>\n",
       "      <td>136604</td>\n",
       "      <td>#1 Cheerleader Camp (2010)</td>\n",
       "      <td>Comedy|Drama</td>\n",
       "      <td>2.111111</td>\n",
       "      <td>9</td>\n",
       "      <td>2.272727</td>\n",
       "    </tr>\n",
       "    <tr>\n",
       "      <th>3</th>\n",
       "      <td>183901</td>\n",
       "      <td>#Captured (2017)</td>\n",
       "      <td>Horror</td>\n",
       "      <td>3.750000</td>\n",
       "      <td>2</td>\n",
       "      <td>3.375000</td>\n",
       "    </tr>\n",
       "    <tr>\n",
       "      <th>4</th>\n",
       "      <td>195955</td>\n",
       "      <td>#Female Pleasure (2018)</td>\n",
       "      <td>Documentary</td>\n",
       "      <td>3.666667</td>\n",
       "      <td>3</td>\n",
       "      <td>3.400000</td>\n",
       "    </tr>\n",
       "  </tbody>\n",
       "</table>\n",
       "</div>"
      ],
      "text/plain": [
       "  movieId                                              title  \\\n",
       "0  208297  \"BLOW THE NIGHT!\" Let's Spend the Night Togeth...   \n",
       "1   51372                   \"Great Performances\" Cats (1998)   \n",
       "2  136604                         #1 Cheerleader Camp (2010)   \n",
       "3  183901                                   #Captured (2017)   \n",
       "4  195955                            #Female Pleasure (2018)   \n",
       "\n",
       "              genres  avg_rating  num_ratings   lap_avg  \n",
       "0  Documentary|Drama    3.000000            1  3.000000  \n",
       "1            Musical    2.896648          179  2.897790  \n",
       "2       Comedy|Drama    2.111111            9  2.272727  \n",
       "3             Horror    3.750000            2  3.375000  \n",
       "4        Documentary    3.666667            3  3.400000  "
      ]
     },
     "execution_count": 58,
     "metadata": {},
     "output_type": "execute_result"
    }
   ],
   "source": [
    "data.head() "
   ]
  },
  {
   "cell_type": "code",
   "execution_count": 39,
   "id": "steady-starter",
   "metadata": {},
   "outputs": [
    {
     "data": {
      "text/html": [
       "<div>\n",
       "<style scoped>\n",
       "    .dataframe tbody tr th:only-of-type {\n",
       "        vertical-align: middle;\n",
       "    }\n",
       "\n",
       "    .dataframe tbody tr th {\n",
       "        vertical-align: top;\n",
       "    }\n",
       "\n",
       "    .dataframe thead th {\n",
       "        text-align: right;\n",
       "    }\n",
       "</style>\n",
       "<table border=\"1\" class=\"dataframe\">\n",
       "  <thead>\n",
       "    <tr style=\"text-align: right;\">\n",
       "      <th></th>\n",
       "      <th>userId</th>\n",
       "      <th>movieId</th>\n",
       "      <th>tag</th>\n",
       "    </tr>\n",
       "  </thead>\n",
       "  <tbody>\n",
       "    <tr>\n",
       "      <th>0</th>\n",
       "      <td>3</td>\n",
       "      <td>260</td>\n",
       "      <td>classic</td>\n",
       "    </tr>\n",
       "    <tr>\n",
       "      <th>1</th>\n",
       "      <td>3</td>\n",
       "      <td>260</td>\n",
       "      <td>sci-fi</td>\n",
       "    </tr>\n",
       "    <tr>\n",
       "      <th>2</th>\n",
       "      <td>4</td>\n",
       "      <td>1732</td>\n",
       "      <td>dark comedy</td>\n",
       "    </tr>\n",
       "    <tr>\n",
       "      <th>3</th>\n",
       "      <td>4</td>\n",
       "      <td>1732</td>\n",
       "      <td>great dialogue</td>\n",
       "    </tr>\n",
       "    <tr>\n",
       "      <th>4</th>\n",
       "      <td>4</td>\n",
       "      <td>7569</td>\n",
       "      <td>so bad it's good</td>\n",
       "    </tr>\n",
       "  </tbody>\n",
       "</table>\n",
       "</div>"
      ],
      "text/plain": [
       "   userId  movieId               tag\n",
       "0       3      260           classic\n",
       "1       3      260            sci-fi\n",
       "2       4     1732       dark comedy\n",
       "3       4     1732    great dialogue\n",
       "4       4     7569  so bad it's good"
      ]
     },
     "execution_count": 39,
     "metadata": {},
     "output_type": "execute_result"
    }
   ],
   "source": [
    "tags.drop(['timestamp'],axis=1,inplace=True)\n",
    "tags.head()"
   ]
  },
  {
   "cell_type": "markdown",
   "id": "major-arnold",
   "metadata": {},
   "source": [
    "# Pickle the necessary dataframes for future use - App Build and DataBase Creation"
   ]
  },
  {
   "cell_type": "code",
   "execution_count": 59,
   "id": "based-collect",
   "metadata": {},
   "outputs": [],
   "source": [
    "pickle.dump(movies_data,open('movies_data.pkl','wb'))\n",
    "pickle.dump(data,open('avg_ratings.pkl','wb'))\n",
    "pickle.dump(links,open('links.pkl','wb'))"
   ]
  },
  {
   "cell_type": "markdown",
   "id": "worldwide-rachel",
   "metadata": {},
   "source": [
    "# Clustering users according to their favourite Genre"
   ]
  },
  {
   "cell_type": "code",
   "execution_count": 33,
   "id": "joint-lemon",
   "metadata": {},
   "outputs": [
    {
     "name": "stdout",
     "output_type": "stream",
     "text": [
      "<class 'pandas.core.frame.DataFrame'>\n",
      "RangeIndex: 25000095 entries, 0 to 25000094\n",
      "Data columns (total 4 columns):\n",
      " #   Column     Dtype   \n",
      "---  ------     -----   \n",
      " 0   userId     int64   \n",
      " 1   movieId    category\n",
      " 2   rating     float64 \n",
      " 3   timestamp  int64   \n",
      "dtypes: category(1), float64(1), int64(2)\n",
      "memory usage: 670.0 MB\n"
     ]
    }
   ],
   "source": [
    "ratings_data.info()"
   ]
  },
  {
   "cell_type": "code",
   "execution_count": 35,
   "id": "healthy-promotion",
   "metadata": {},
   "outputs": [
    {
     "data": {
      "text/plain": [
       "userId         162541\n",
       "movieId         59047\n",
       "rating             10\n",
       "timestamp    20115267\n",
       "dtype: int64"
      ]
     },
     "execution_count": 35,
     "metadata": {},
     "output_type": "execute_result"
    }
   ],
   "source": [
    "ratings_data.nunique()"
   ]
  },
  {
   "cell_type": "markdown",
   "id": "external-happening",
   "metadata": {},
   "source": [
    "## Selecting only those users who have liked a movie because while making favourite genre clusters we dont care about the users who have given a bad rating\n"
   ]
  },
  {
   "cell_type": "code",
   "execution_count": null,
   "id": "optimum-weather",
   "metadata": {},
   "outputs": [],
   "source": [
    "ratings_data_good = ratings_data[ratings_data.rating>3.5]"
   ]
  },
  {
   "cell_type": "code",
   "execution_count": 40,
   "id": "continuing-crest",
   "metadata": {},
   "outputs": [
    {
     "data": {
      "text/plain": [
       "userId         162342\n",
       "movieId         40858\n",
       "rating              3\n",
       "timestamp    10523451\n",
       "dtype: int64"
      ]
     },
     "execution_count": 40,
     "metadata": {},
     "output_type": "execute_result"
    }
   ],
   "source": [
    "ratings_data_good.nunique()"
   ]
  },
  {
   "cell_type": "code",
   "execution_count": 41,
   "id": "sudden-socket",
   "metadata": {},
   "outputs": [
    {
     "data": {
      "text/html": [
       "<div>\n",
       "<style scoped>\n",
       "    .dataframe tbody tr th:only-of-type {\n",
       "        vertical-align: middle;\n",
       "    }\n",
       "\n",
       "    .dataframe tbody tr th {\n",
       "        vertical-align: top;\n",
       "    }\n",
       "\n",
       "    .dataframe thead th {\n",
       "        text-align: right;\n",
       "    }\n",
       "</style>\n",
       "<table border=\"1\" class=\"dataframe\">\n",
       "  <thead>\n",
       "    <tr style=\"text-align: right;\">\n",
       "      <th></th>\n",
       "      <th>userId</th>\n",
       "      <th>movieId</th>\n",
       "      <th>rating</th>\n",
       "      <th>timestamp</th>\n",
       "    </tr>\n",
       "  </thead>\n",
       "  <tbody>\n",
       "    <tr>\n",
       "      <th>0</th>\n",
       "      <td>1</td>\n",
       "      <td>296</td>\n",
       "      <td>5.0</td>\n",
       "      <td>1147880044</td>\n",
       "    </tr>\n",
       "    <tr>\n",
       "      <th>2</th>\n",
       "      <td>1</td>\n",
       "      <td>307</td>\n",
       "      <td>5.0</td>\n",
       "      <td>1147868828</td>\n",
       "    </tr>\n",
       "    <tr>\n",
       "      <th>3</th>\n",
       "      <td>1</td>\n",
       "      <td>665</td>\n",
       "      <td>5.0</td>\n",
       "      <td>1147878820</td>\n",
       "    </tr>\n",
       "    <tr>\n",
       "      <th>5</th>\n",
       "      <td>1</td>\n",
       "      <td>1088</td>\n",
       "      <td>4.0</td>\n",
       "      <td>1147868495</td>\n",
       "    </tr>\n",
       "    <tr>\n",
       "      <th>8</th>\n",
       "      <td>1</td>\n",
       "      <td>1237</td>\n",
       "      <td>5.0</td>\n",
       "      <td>1147868839</td>\n",
       "    </tr>\n",
       "  </tbody>\n",
       "</table>\n",
       "</div>"
      ],
      "text/plain": [
       "   userId movieId  rating   timestamp\n",
       "0       1     296     5.0  1147880044\n",
       "2       1     307     5.0  1147868828\n",
       "3       1     665     5.0  1147878820\n",
       "5       1    1088     4.0  1147868495\n",
       "8       1    1237     5.0  1147868839"
      ]
     },
     "execution_count": 41,
     "metadata": {},
     "output_type": "execute_result"
    }
   ],
   "source": [
    "ratings_data_good.head()"
   ]
  },
  {
   "cell_type": "code",
   "execution_count": 6,
   "id": "passive-invalid",
   "metadata": {},
   "outputs": [
    {
     "name": "stderr",
     "output_type": "stream",
     "text": [
      "C:\\Users\\MSI\\anaconda3\\envs\\rstudio\\lib\\site-packages\\pandas\\core\\frame.py:4315: SettingWithCopyWarning: \n",
      "A value is trying to be set on a copy of a slice from a DataFrame\n",
      "\n",
      "See the caveats in the documentation: https://pandas.pydata.org/pandas-docs/stable/user_guide/indexing.html#returning-a-view-versus-a-copy\n",
      "  errors=errors,\n"
     ]
    }
   ],
   "source": [
    "ratings_data_good.drop(['rating','timestamp'],axis=1,inplace=True)"
   ]
  },
  {
   "cell_type": "code",
   "execution_count": 48,
   "id": "sunset-incident",
   "metadata": {},
   "outputs": [
    {
     "data": {
      "text/html": [
       "<div>\n",
       "<style scoped>\n",
       "    .dataframe tbody tr th:only-of-type {\n",
       "        vertical-align: middle;\n",
       "    }\n",
       "\n",
       "    .dataframe tbody tr th {\n",
       "        vertical-align: top;\n",
       "    }\n",
       "\n",
       "    .dataframe thead th {\n",
       "        text-align: right;\n",
       "    }\n",
       "</style>\n",
       "<table border=\"1\" class=\"dataframe\">\n",
       "  <thead>\n",
       "    <tr style=\"text-align: right;\">\n",
       "      <th></th>\n",
       "      <th>userId</th>\n",
       "      <th>movieId</th>\n",
       "    </tr>\n",
       "  </thead>\n",
       "  <tbody>\n",
       "    <tr>\n",
       "      <th>0</th>\n",
       "      <td>1</td>\n",
       "      <td>296</td>\n",
       "    </tr>\n",
       "    <tr>\n",
       "      <th>2</th>\n",
       "      <td>1</td>\n",
       "      <td>307</td>\n",
       "    </tr>\n",
       "    <tr>\n",
       "      <th>3</th>\n",
       "      <td>1</td>\n",
       "      <td>665</td>\n",
       "    </tr>\n",
       "    <tr>\n",
       "      <th>5</th>\n",
       "      <td>1</td>\n",
       "      <td>1088</td>\n",
       "    </tr>\n",
       "    <tr>\n",
       "      <th>8</th>\n",
       "      <td>1</td>\n",
       "      <td>1237</td>\n",
       "    </tr>\n",
       "  </tbody>\n",
       "</table>\n",
       "</div>"
      ],
      "text/plain": [
       "   userId movieId\n",
       "0       1     296\n",
       "2       1     307\n",
       "3       1     665\n",
       "5       1    1088\n",
       "8       1    1237"
      ]
     },
     "execution_count": 48,
     "metadata": {},
     "output_type": "execute_result"
    }
   ],
   "source": [
    "ratings_data_good.head()"
   ]
  },
  {
   "cell_type": "markdown",
   "id": "thorough-separate",
   "metadata": {},
   "source": [
    "# Grouping the movies in a list which were liked by users"
   ]
  },
  {
   "cell_type": "code",
   "execution_count": 7,
   "id": "tight-mediterranean",
   "metadata": {},
   "outputs": [],
   "source": [
    "movie_grps = ratings_data_good.groupby('userId')['movieId'].apply(list).reset_index(name='movies')"
   ]
  },
  {
   "cell_type": "code",
   "execution_count": 52,
   "id": "biblical-former",
   "metadata": {},
   "outputs": [
    {
     "data": {
      "text/html": [
       "<div>\n",
       "<style scoped>\n",
       "    .dataframe tbody tr th:only-of-type {\n",
       "        vertical-align: middle;\n",
       "    }\n",
       "\n",
       "    .dataframe tbody tr th {\n",
       "        vertical-align: top;\n",
       "    }\n",
       "\n",
       "    .dataframe thead th {\n",
       "        text-align: right;\n",
       "    }\n",
       "</style>\n",
       "<table border=\"1\" class=\"dataframe\">\n",
       "  <thead>\n",
       "    <tr style=\"text-align: right;\">\n",
       "      <th></th>\n",
       "      <th>userId</th>\n",
       "      <th>movies</th>\n",
       "    </tr>\n",
       "  </thead>\n",
       "  <tbody>\n",
       "    <tr>\n",
       "      <th>0</th>\n",
       "      <td>1</td>\n",
       "      <td>[296, 307, 665, 1088, 1237, 1250, 1653, 2351, ...</td>\n",
       "    </tr>\n",
       "    <tr>\n",
       "      <th>1</th>\n",
       "      <td>2</td>\n",
       "      <td>[110, 150, 151, 236, 260, 318, 333, 349, 356, ...</td>\n",
       "    </tr>\n",
       "    <tr>\n",
       "      <th>2</th>\n",
       "      <td>3</td>\n",
       "      <td>[1, 29, 32, 50, 111, 172, 214, 260, 293, 296, ...</td>\n",
       "    </tr>\n",
       "    <tr>\n",
       "      <th>3</th>\n",
       "      <td>4</td>\n",
       "      <td>[296, 541, 589, 924, 1036, 1136, 1196, 1197, 1...</td>\n",
       "    </tr>\n",
       "    <tr>\n",
       "      <th>4</th>\n",
       "      <td>5</td>\n",
       "      <td>[1, 19, 32, 36, 47, 50, 88, 104, 141, 147, 150...</td>\n",
       "    </tr>\n",
       "    <tr>\n",
       "      <th>5</th>\n",
       "      <td>6</td>\n",
       "      <td>[260, 318, 527, 593, 608, 858, 902, 912, 913, ...</td>\n",
       "    </tr>\n",
       "    <tr>\n",
       "      <th>6</th>\n",
       "      <td>7</td>\n",
       "      <td>[17, 28, 58, 150, 232, 265, 296, 306, 307, 308...</td>\n",
       "    </tr>\n",
       "    <tr>\n",
       "      <th>7</th>\n",
       "      <td>8</td>\n",
       "      <td>[1, 3, 10, 16, 18, 47, 50, 62, 69, 95, 104, 11...</td>\n",
       "    </tr>\n",
       "    <tr>\n",
       "      <th>8</th>\n",
       "      <td>9</td>\n",
       "      <td>[2, 10, 61, 105, 116, 150, 158, 161, 165, 168,...</td>\n",
       "    </tr>\n",
       "    <tr>\n",
       "      <th>9</th>\n",
       "      <td>10</td>\n",
       "      <td>[32, 50, 110, 150, 260, 296, 318, 356, 480, 58...</td>\n",
       "    </tr>\n",
       "  </tbody>\n",
       "</table>\n",
       "</div>"
      ],
      "text/plain": [
       "   userId                                             movies\n",
       "0       1  [296, 307, 665, 1088, 1237, 1250, 1653, 2351, ...\n",
       "1       2  [110, 150, 151, 236, 260, 318, 333, 349, 356, ...\n",
       "2       3  [1, 29, 32, 50, 111, 172, 214, 260, 293, 296, ...\n",
       "3       4  [296, 541, 589, 924, 1036, 1136, 1196, 1197, 1...\n",
       "4       5  [1, 19, 32, 36, 47, 50, 88, 104, 141, 147, 150...\n",
       "5       6  [260, 318, 527, 593, 608, 858, 902, 912, 913, ...\n",
       "6       7  [17, 28, 58, 150, 232, 265, 296, 306, 307, 308...\n",
       "7       8  [1, 3, 10, 16, 18, 47, 50, 62, 69, 95, 104, 11...\n",
       "8       9  [2, 10, 61, 105, 116, 150, 158, 161, 165, 168,...\n",
       "9      10  [32, 50, 110, 150, 260, 296, 318, 356, 480, 58..."
      ]
     },
     "execution_count": 52,
     "metadata": {},
     "output_type": "execute_result"
    }
   ],
   "source": [
    "movie_grps.head(10)"
   ]
  },
  {
   "cell_type": "code",
   "execution_count": 53,
   "id": "ranging-designer",
   "metadata": {},
   "outputs": [
    {
     "name": "stdout",
     "output_type": "stream",
     "text": [
      "<class 'pandas.core.frame.DataFrame'>\n",
      "RangeIndex: 162342 entries, 0 to 162341\n",
      "Data columns (total 2 columns):\n",
      " #   Column  Non-Null Count   Dtype \n",
      "---  ------  --------------   ----- \n",
      " 0   userId  162342 non-null  int64 \n",
      " 1   movies  162342 non-null  object\n",
      "dtypes: int64(1), object(1)\n",
      "memory usage: 2.5+ MB\n"
     ]
    }
   ],
   "source": [
    "movie_grps.info()"
   ]
  },
  {
   "cell_type": "code",
   "execution_count": 63,
   "id": "federal-coordinator",
   "metadata": {},
   "outputs": [
    {
     "data": {
      "text/plain": [
       "[296,\n",
       " 307,\n",
       " 665,\n",
       " 1088,\n",
       " 1237,\n",
       " 1250,\n",
       " 1653,\n",
       " 2351,\n",
       " 2573,\n",
       " 2632,\n",
       " 2692,\n",
       " 2843,\n",
       " 3448,\n",
       " 3569,\n",
       " 3949,\n",
       " 4144,\n",
       " 4325,\n",
       " 4703,\n",
       " 4973,\n",
       " 5147,\n",
       " 5767,\n",
       " 5878,\n",
       " 5952,\n",
       " 6016,\n",
       " 6370,\n",
       " 6377,\n",
       " 6711,\n",
       " 7209,\n",
       " 7234,\n",
       " 7361,\n",
       " 7365,\n",
       " 7940,\n",
       " 8154,\n",
       " 8327,\n",
       " 8360,\n",
       " 8786,\n",
       " 8973,\n",
       " 27266,\n",
       " 32591]"
      ]
     },
     "execution_count": 63,
     "metadata": {},
     "output_type": "execute_result"
    }
   ],
   "source": [
    "# Movies liked by the user with userId1\n",
    "movie_grps.movies.iloc[0]"
   ]
  },
  {
   "cell_type": "code",
   "execution_count": 126,
   "id": "unique-nerve",
   "metadata": {},
   "outputs": [
    {
     "name": "stdout",
     "output_type": "stream",
     "text": [
      "<class 'pandas.core.frame.DataFrame'>\n",
      "RangeIndex: 162342 entries, 0 to 162341\n",
      "Data columns (total 2 columns):\n",
      " #   Column  Non-Null Count   Dtype \n",
      "---  ------  --------------   ----- \n",
      " 0   userId  162342 non-null  int64 \n",
      " 1   movies  162342 non-null  object\n",
      "dtypes: int64(1), object(1)\n",
      "memory usage: 2.5+ MB\n"
     ]
    }
   ],
   "source": [
    "movie_grps.info()"
   ]
  },
  {
   "cell_type": "code",
   "execution_count": 8,
   "id": "recreational-universal",
   "metadata": {},
   "outputs": [],
   "source": [
    "total = pd.merge(ratings_data_good,movies_data,on='movieId',how='left')"
   ]
  },
  {
   "cell_type": "markdown",
   "id": "subsequent-metadata",
   "metadata": {},
   "source": [
    "# Finding the List of all the movies that were liked by a user"
   ]
  },
  {
   "cell_type": "code",
   "execution_count": 9,
   "id": "broke-latino",
   "metadata": {},
   "outputs": [
    {
     "name": "stdout",
     "output_type": "stream",
     "text": [
      "<class 'pandas.core.frame.DataFrame'>\n",
      "Int64Index: 12452811 entries, 0 to 12452810\n",
      "Data columns (total 4 columns):\n",
      " #   Column   Dtype \n",
      "---  ------   ----- \n",
      " 0   userId   int64 \n",
      " 1   movieId  int64 \n",
      " 2   title    object\n",
      " 3   genres   object\n",
      "dtypes: int64(2), object(2)\n",
      "memory usage: 475.0+ MB\n"
     ]
    }
   ],
   "source": [
    "total.info()"
   ]
  },
  {
   "cell_type": "code",
   "execution_count": 11,
   "id": "hearing-turkish",
   "metadata": {},
   "outputs": [],
   "source": [
    "total.drop(['rating','timestamp'],axis=1,inplace=True)"
   ]
  },
  {
   "cell_type": "code",
   "execution_count": 10,
   "id": "opening-laundry",
   "metadata": {},
   "outputs": [],
   "source": [
    "movies_by_users = total.drop(['movieId','genres'],axis=1)\n",
    "genres_by_users = total.drop(['movieId','title'],axis=1)"
   ]
  },
  {
   "cell_type": "code",
   "execution_count": 19,
   "id": "charming-lying",
   "metadata": {},
   "outputs": [
    {
     "data": {
      "text/html": [
       "<div>\n",
       "<style scoped>\n",
       "    .dataframe tbody tr th:only-of-type {\n",
       "        vertical-align: middle;\n",
       "    }\n",
       "\n",
       "    .dataframe tbody tr th {\n",
       "        vertical-align: top;\n",
       "    }\n",
       "\n",
       "    .dataframe thead th {\n",
       "        text-align: right;\n",
       "    }\n",
       "</style>\n",
       "<table border=\"1\" class=\"dataframe\">\n",
       "  <thead>\n",
       "    <tr style=\"text-align: right;\">\n",
       "      <th></th>\n",
       "      <th>userId</th>\n",
       "      <th>genres</th>\n",
       "    </tr>\n",
       "  </thead>\n",
       "  <tbody>\n",
       "    <tr>\n",
       "      <th>0</th>\n",
       "      <td>1</td>\n",
       "      <td>Comedy|Crime|Drama|Thriller</td>\n",
       "    </tr>\n",
       "    <tr>\n",
       "      <th>1</th>\n",
       "      <td>1</td>\n",
       "      <td>Drama</td>\n",
       "    </tr>\n",
       "    <tr>\n",
       "      <th>2</th>\n",
       "      <td>1</td>\n",
       "      <td>Comedy|Drama|War</td>\n",
       "    </tr>\n",
       "    <tr>\n",
       "      <th>3</th>\n",
       "      <td>1</td>\n",
       "      <td>Drama|Musical|Romance</td>\n",
       "    </tr>\n",
       "    <tr>\n",
       "      <th>4</th>\n",
       "      <td>1</td>\n",
       "      <td>Drama</td>\n",
       "    </tr>\n",
       "  </tbody>\n",
       "</table>\n",
       "</div>"
      ],
      "text/plain": [
       "   userId                       genres\n",
       "0       1  Comedy|Crime|Drama|Thriller\n",
       "1       1                        Drama\n",
       "2       1             Comedy|Drama|War\n",
       "3       1        Drama|Musical|Romance\n",
       "4       1                        Drama"
      ]
     },
     "execution_count": 19,
     "metadata": {},
     "output_type": "execute_result"
    }
   ],
   "source": [
    "genres_by_users.head()"
   ]
  },
  {
   "cell_type": "code",
   "execution_count": 11,
   "id": "amino-blogger",
   "metadata": {},
   "outputs": [],
   "source": [
    "movies_by_users_grouped = movies_by_users.groupby('userId')['title'].apply(list).reset_index(name='movies')"
   ]
  },
  {
   "cell_type": "code",
   "execution_count": null,
   "id": "entertaining-mystery",
   "metadata": {},
   "outputs": [],
   "source": [
    "genres_by_users_grouped = genres_by_users.groupby('userId')['genres'].apply(list).reset_index(name='genres')"
   ]
  },
  {
   "cell_type": "markdown",
   "id": "convinced-enlargement",
   "metadata": {},
   "source": [
    "# All the Movies Liked by a user"
   ]
  },
  {
   "cell_type": "code",
   "execution_count": 21,
   "id": "broad-madness",
   "metadata": {},
   "outputs": [
    {
     "data": {
      "text/html": [
       "<div>\n",
       "<style scoped>\n",
       "    .dataframe tbody tr th:only-of-type {\n",
       "        vertical-align: middle;\n",
       "    }\n",
       "\n",
       "    .dataframe tbody tr th {\n",
       "        vertical-align: top;\n",
       "    }\n",
       "\n",
       "    .dataframe thead th {\n",
       "        text-align: right;\n",
       "    }\n",
       "</style>\n",
       "<table border=\"1\" class=\"dataframe\">\n",
       "  <thead>\n",
       "    <tr style=\"text-align: right;\">\n",
       "      <th></th>\n",
       "      <th>userId</th>\n",
       "      <th>movies</th>\n",
       "    </tr>\n",
       "  </thead>\n",
       "  <tbody>\n",
       "    <tr>\n",
       "      <th>0</th>\n",
       "      <td>1</td>\n",
       "      <td>[Pulp Fiction (1994), Three Colors: Blue (Troi...</td>\n",
       "    </tr>\n",
       "    <tr>\n",
       "      <th>1</th>\n",
       "      <td>2</td>\n",
       "      <td>[Braveheart (1995), Apollo 13 (1995), Rob Roy ...</td>\n",
       "    </tr>\n",
       "    <tr>\n",
       "      <th>2</th>\n",
       "      <td>3</td>\n",
       "      <td>[Toy Story (1995), City of Lost Children, The ...</td>\n",
       "    </tr>\n",
       "    <tr>\n",
       "      <th>3</th>\n",
       "      <td>4</td>\n",
       "      <td>[Pulp Fiction (1994), Blade Runner (1982), Ter...</td>\n",
       "    </tr>\n",
       "    <tr>\n",
       "      <th>4</th>\n",
       "      <td>5</td>\n",
       "      <td>[Toy Story (1995), Ace Ventura: When Nature Ca...</td>\n",
       "    </tr>\n",
       "  </tbody>\n",
       "</table>\n",
       "</div>"
      ],
      "text/plain": [
       "   userId                                             movies\n",
       "0       1  [Pulp Fiction (1994), Three Colors: Blue (Troi...\n",
       "1       2  [Braveheart (1995), Apollo 13 (1995), Rob Roy ...\n",
       "2       3  [Toy Story (1995), City of Lost Children, The ...\n",
       "3       4  [Pulp Fiction (1994), Blade Runner (1982), Ter...\n",
       "4       5  [Toy Story (1995), Ace Ventura: When Nature Ca..."
      ]
     },
     "execution_count": 21,
     "metadata": {},
     "output_type": "execute_result"
    }
   ],
   "source": [
    "movies_by_users_grouped.head()"
   ]
  },
  {
   "cell_type": "code",
   "execution_count": 21,
   "id": "superb-nudist",
   "metadata": {},
   "outputs": [
    {
     "data": {
      "text/html": [
       "<div>\n",
       "<style scoped>\n",
       "    .dataframe tbody tr th:only-of-type {\n",
       "        vertical-align: middle;\n",
       "    }\n",
       "\n",
       "    .dataframe tbody tr th {\n",
       "        vertical-align: top;\n",
       "    }\n",
       "\n",
       "    .dataframe thead th {\n",
       "        text-align: right;\n",
       "    }\n",
       "</style>\n",
       "<table border=\"1\" class=\"dataframe\">\n",
       "  <thead>\n",
       "    <tr style=\"text-align: right;\">\n",
       "      <th></th>\n",
       "      <th>userId</th>\n",
       "      <th>genres</th>\n",
       "    </tr>\n",
       "  </thead>\n",
       "  <tbody>\n",
       "    <tr>\n",
       "      <th>0</th>\n",
       "      <td>1</td>\n",
       "      <td>[Comedy,Crime,Drama,Thriller, Drama, Comedy,Dr...</td>\n",
       "    </tr>\n",
       "    <tr>\n",
       "      <th>1</th>\n",
       "      <td>2</td>\n",
       "      <td>[Action,Drama,War, Adventure,Drama,IMAX, Actio...</td>\n",
       "    </tr>\n",
       "    <tr>\n",
       "      <th>2</th>\n",
       "      <td>3</td>\n",
       "      <td>[Adventure,Animation,Children,Comedy,Fantasy, ...</td>\n",
       "    </tr>\n",
       "    <tr>\n",
       "      <th>3</th>\n",
       "      <td>4</td>\n",
       "      <td>[Comedy,Crime,Drama,Thriller, Action,Sci-Fi,Th...</td>\n",
       "    </tr>\n",
       "    <tr>\n",
       "      <th>4</th>\n",
       "      <td>5</td>\n",
       "      <td>[Adventure,Animation,Children,Comedy,Fantasy, ...</td>\n",
       "    </tr>\n",
       "  </tbody>\n",
       "</table>\n",
       "</div>"
      ],
      "text/plain": [
       "   userId                                             genres\n",
       "0       1  [Comedy,Crime,Drama,Thriller, Drama, Comedy,Dr...\n",
       "1       2  [Action,Drama,War, Adventure,Drama,IMAX, Actio...\n",
       "2       3  [Adventure,Animation,Children,Comedy,Fantasy, ...\n",
       "3       4  [Comedy,Crime,Drama,Thriller, Action,Sci-Fi,Th...\n",
       "4       5  [Adventure,Animation,Children,Comedy,Fantasy, ..."
      ]
     },
     "execution_count": 21,
     "metadata": {},
     "output_type": "execute_result"
    }
   ],
   "source": [
    "genres_by_users_grouped.head()"
   ]
  },
  {
   "cell_type": "code",
   "execution_count": 14,
   "id": "ceramic-provider",
   "metadata": {},
   "outputs": [],
   "source": [
    "genres_by_users_grouped['genres'] = genres_by_users_grouped['genres'].apply(lambda x:[i.replace(\"|\",\",\") for i in x])"
   ]
  },
  {
   "cell_type": "code",
   "execution_count": 39,
   "id": "classical-monroe",
   "metadata": {},
   "outputs": [],
   "source": [
    "genres_by_users_grouped['genres'] = genres_by_users_grouped['genres'].apply(lambda x:[i.replace(\" \",\"\") for i in x])"
   ]
  },
  {
   "cell_type": "code",
   "execution_count": 45,
   "id": "framed-suggestion",
   "metadata": {},
   "outputs": [
    {
     "data": {
      "text/html": [
       "<div>\n",
       "<style scoped>\n",
       "    .dataframe tbody tr th:only-of-type {\n",
       "        vertical-align: middle;\n",
       "    }\n",
       "\n",
       "    .dataframe tbody tr th {\n",
       "        vertical-align: top;\n",
       "    }\n",
       "\n",
       "    .dataframe thead th {\n",
       "        text-align: right;\n",
       "    }\n",
       "</style>\n",
       "<table border=\"1\" class=\"dataframe\">\n",
       "  <thead>\n",
       "    <tr style=\"text-align: right;\">\n",
       "      <th></th>\n",
       "      <th>userId</th>\n",
       "      <th>genres</th>\n",
       "      <th>fav_genre</th>\n",
       "    </tr>\n",
       "  </thead>\n",
       "  <tbody>\n",
       "    <tr>\n",
       "      <th>0</th>\n",
       "      <td>1</td>\n",
       "      <td>[Comedy,Crime,Drama,Thriller, Drama, Comedy,Dr...</td>\n",
       "      <td>Drama</td>\n",
       "    </tr>\n",
       "    <tr>\n",
       "      <th>1</th>\n",
       "      <td>2</td>\n",
       "      <td>[Action,Drama,War, Adventure,Drama,IMAX, Actio...</td>\n",
       "      <td>Drama</td>\n",
       "    </tr>\n",
       "    <tr>\n",
       "      <th>2</th>\n",
       "      <td>3</td>\n",
       "      <td>[Adventure,Animation,Children,Comedy,Fantasy, ...</td>\n",
       "      <td>Drama</td>\n",
       "    </tr>\n",
       "    <tr>\n",
       "      <th>3</th>\n",
       "      <td>4</td>\n",
       "      <td>[Comedy,Crime,Drama,Thriller, Action,Sci-Fi,Th...</td>\n",
       "      <td>Comedy</td>\n",
       "    </tr>\n",
       "    <tr>\n",
       "      <th>4</th>\n",
       "      <td>5</td>\n",
       "      <td>[Adventure,Animation,Children,Comedy,Fantasy, ...</td>\n",
       "      <td>Comedy</td>\n",
       "    </tr>\n",
       "  </tbody>\n",
       "</table>\n",
       "</div>"
      ],
      "text/plain": [
       "   userId                                             genres fav_genre\n",
       "0       1  [Comedy,Crime,Drama,Thriller, Drama, Comedy,Dr...     Drama\n",
       "1       2  [Action,Drama,War, Adventure,Drama,IMAX, Actio...     Drama\n",
       "2       3  [Adventure,Animation,Children,Comedy,Fantasy, ...     Drama\n",
       "3       4  [Comedy,Crime,Drama,Thriller, Action,Sci-Fi,Th...    Comedy\n",
       "4       5  [Adventure,Animation,Children,Comedy,Fantasy, ...    Comedy"
      ]
     },
     "execution_count": 45,
     "metadata": {},
     "output_type": "execute_result"
    }
   ],
   "source": [
    "genres_by_users_grouped.head()"
   ]
  },
  {
   "cell_type": "code",
   "execution_count": 50,
   "id": "olympic-locking",
   "metadata": {},
   "outputs": [],
   "source": [
    "movies_favGenre_data = pd.merge(movies_by_users_grouped,genres_by_users_grouped,on = 'userId')"
   ]
  },
  {
   "cell_type": "code",
   "execution_count": 52,
   "id": "premier-workshop",
   "metadata": {},
   "outputs": [],
   "source": [
    "movies_favGenre_data.drop(['genres'],axis=1,inplace=True)"
   ]
  },
  {
   "cell_type": "code",
   "execution_count": 53,
   "id": "greek-output",
   "metadata": {},
   "outputs": [
    {
     "data": {
      "text/html": [
       "<div>\n",
       "<style scoped>\n",
       "    .dataframe tbody tr th:only-of-type {\n",
       "        vertical-align: middle;\n",
       "    }\n",
       "\n",
       "    .dataframe tbody tr th {\n",
       "        vertical-align: top;\n",
       "    }\n",
       "\n",
       "    .dataframe thead th {\n",
       "        text-align: right;\n",
       "    }\n",
       "</style>\n",
       "<table border=\"1\" class=\"dataframe\">\n",
       "  <thead>\n",
       "    <tr style=\"text-align: right;\">\n",
       "      <th></th>\n",
       "      <th>userId</th>\n",
       "      <th>movies</th>\n",
       "      <th>fav_genre</th>\n",
       "    </tr>\n",
       "  </thead>\n",
       "  <tbody>\n",
       "    <tr>\n",
       "      <th>0</th>\n",
       "      <td>1</td>\n",
       "      <td>[Pulp Fiction (1994), Three Colors: Blue (Troi...</td>\n",
       "      <td>Drama</td>\n",
       "    </tr>\n",
       "    <tr>\n",
       "      <th>1</th>\n",
       "      <td>2</td>\n",
       "      <td>[Braveheart (1995), Apollo 13 (1995), Rob Roy ...</td>\n",
       "      <td>Drama</td>\n",
       "    </tr>\n",
       "    <tr>\n",
       "      <th>2</th>\n",
       "      <td>3</td>\n",
       "      <td>[Toy Story (1995), City of Lost Children, The ...</td>\n",
       "      <td>Drama</td>\n",
       "    </tr>\n",
       "    <tr>\n",
       "      <th>3</th>\n",
       "      <td>4</td>\n",
       "      <td>[Pulp Fiction (1994), Blade Runner (1982), Ter...</td>\n",
       "      <td>Comedy</td>\n",
       "    </tr>\n",
       "    <tr>\n",
       "      <th>4</th>\n",
       "      <td>5</td>\n",
       "      <td>[Toy Story (1995), Ace Ventura: When Nature Ca...</td>\n",
       "      <td>Comedy</td>\n",
       "    </tr>\n",
       "  </tbody>\n",
       "</table>\n",
       "</div>"
      ],
      "text/plain": [
       "   userId                                             movies fav_genre\n",
       "0       1  [Pulp Fiction (1994), Three Colors: Blue (Troi...     Drama\n",
       "1       2  [Braveheart (1995), Apollo 13 (1995), Rob Roy ...     Drama\n",
       "2       3  [Toy Story (1995), City of Lost Children, The ...     Drama\n",
       "3       4  [Pulp Fiction (1994), Blade Runner (1982), Ter...    Comedy\n",
       "4       5  [Toy Story (1995), Ace Ventura: When Nature Ca...    Comedy"
      ]
     },
     "execution_count": 53,
     "metadata": {},
     "output_type": "execute_result"
    }
   ],
   "source": [
    "movies_favGenre_data.head()"
   ]
  },
  {
   "cell_type": "markdown",
   "id": "strategic-vision",
   "metadata": {},
   "source": [
    "# Finding the Favourite Genre of a User"
   ]
  },
  {
   "cell_type": "code",
   "execution_count": 36,
   "id": "supreme-deadline",
   "metadata": {},
   "outputs": [],
   "source": [
    "from collections import Counter\n",
    " \n",
    "def most_frequent(List):\n",
    "    occurence_count = Counter(List)\n",
    "    return occurence_count.most_common(1)[0][0]"
   ]
  },
  {
   "cell_type": "code",
   "execution_count": 40,
   "id": "sharp-stations",
   "metadata": {},
   "outputs": [],
   "source": [
    "#genres_by_users_grouped['fav_genre'] = genres_by_users_grouped['genres'].apply(lambda x:max(set(x), key = x.count))\n",
    "genres_by_users_grouped['fav_genre'] = genres_by_users_grouped['genres'].apply(most_frequent)"
   ]
  },
  {
   "cell_type": "code",
   "execution_count": 43,
   "id": "unavailable-congo",
   "metadata": {},
   "outputs": [
    {
     "data": {
      "text/html": [
       "<div>\n",
       "<style scoped>\n",
       "    .dataframe tbody tr th:only-of-type {\n",
       "        vertical-align: middle;\n",
       "    }\n",
       "\n",
       "    .dataframe tbody tr th {\n",
       "        vertical-align: top;\n",
       "    }\n",
       "\n",
       "    .dataframe thead th {\n",
       "        text-align: right;\n",
       "    }\n",
       "</style>\n",
       "<table border=\"1\" class=\"dataframe\">\n",
       "  <thead>\n",
       "    <tr style=\"text-align: right;\">\n",
       "      <th></th>\n",
       "      <th>userId</th>\n",
       "      <th>genres</th>\n",
       "      <th>fav_genre</th>\n",
       "    </tr>\n",
       "  </thead>\n",
       "  <tbody>\n",
       "    <tr>\n",
       "      <th>0</th>\n",
       "      <td>1</td>\n",
       "      <td>[Comedy,Crime,Drama,Thriller, Drama, Comedy,Dr...</td>\n",
       "      <td>Drama</td>\n",
       "    </tr>\n",
       "    <tr>\n",
       "      <th>1</th>\n",
       "      <td>2</td>\n",
       "      <td>[Action,Drama,War, Adventure,Drama,IMAX, Actio...</td>\n",
       "      <td>Drama</td>\n",
       "    </tr>\n",
       "    <tr>\n",
       "      <th>2</th>\n",
       "      <td>3</td>\n",
       "      <td>[Adventure,Animation,Children,Comedy,Fantasy, ...</td>\n",
       "      <td>Drama</td>\n",
       "    </tr>\n",
       "    <tr>\n",
       "      <th>3</th>\n",
       "      <td>4</td>\n",
       "      <td>[Comedy,Crime,Drama,Thriller, Action,Sci-Fi,Th...</td>\n",
       "      <td>Comedy</td>\n",
       "    </tr>\n",
       "    <tr>\n",
       "      <th>4</th>\n",
       "      <td>5</td>\n",
       "      <td>[Adventure,Animation,Children,Comedy,Fantasy, ...</td>\n",
       "      <td>Comedy</td>\n",
       "    </tr>\n",
       "  </tbody>\n",
       "</table>\n",
       "</div>"
      ],
      "text/plain": [
       "   userId                                             genres fav_genre\n",
       "0       1  [Comedy,Crime,Drama,Thriller, Drama, Comedy,Dr...     Drama\n",
       "1       2  [Action,Drama,War, Adventure,Drama,IMAX, Actio...     Drama\n",
       "2       3  [Adventure,Animation,Children,Comedy,Fantasy, ...     Drama\n",
       "3       4  [Comedy,Crime,Drama,Thriller, Action,Sci-Fi,Th...    Comedy\n",
       "4       5  [Adventure,Animation,Children,Comedy,Fantasy, ...    Comedy"
      ]
     },
     "execution_count": 43,
     "metadata": {},
     "output_type": "execute_result"
    }
   ],
   "source": [
    "genres_by_users_grouped.head()"
   ]
  },
  {
   "cell_type": "markdown",
   "id": "confidential-croatia",
   "metadata": {},
   "source": [
    "### Making the Genre Cluster"
   ]
  },
  {
   "cell_type": "code",
   "execution_count": 46,
   "id": "accepting-heater",
   "metadata": {},
   "outputs": [],
   "source": [
    "fav_genre_grps = genres_by_users_grouped.drop(['genres'],axis=1)"
   ]
  },
  {
   "cell_type": "code",
   "execution_count": 47,
   "id": "former-participant",
   "metadata": {},
   "outputs": [],
   "source": [
    "fav_genre_grps = fav_genre_grps.groupby('fav_genre')['userId'].apply(list).reset_index(name='genre_cluster')"
   ]
  },
  {
   "cell_type": "code",
   "execution_count": 61,
   "id": "dedicated-advancement",
   "metadata": {},
   "outputs": [
    {
     "data": {
      "text/html": [
       "<div>\n",
       "<style scoped>\n",
       "    .dataframe tbody tr th:only-of-type {\n",
       "        vertical-align: middle;\n",
       "    }\n",
       "\n",
       "    .dataframe tbody tr th {\n",
       "        vertical-align: top;\n",
       "    }\n",
       "\n",
       "    .dataframe thead th {\n",
       "        text-align: right;\n",
       "    }\n",
       "</style>\n",
       "<table border=\"1\" class=\"dataframe\">\n",
       "  <thead>\n",
       "    <tr style=\"text-align: right;\">\n",
       "      <th></th>\n",
       "      <th>fav_genre</th>\n",
       "      <th>genre_cluster</th>\n",
       "    </tr>\n",
       "  </thead>\n",
       "  <tbody>\n",
       "    <tr>\n",
       "      <th>0</th>\n",
       "      <td>(nogenreslisted)</td>\n",
       "      <td>[5921, 51483, 90439, 103148]</td>\n",
       "    </tr>\n",
       "    <tr>\n",
       "      <th>1</th>\n",
       "      <td>Action</td>\n",
       "      <td>[1793, 1906, 7072, 10861, 13639, 15387, 19375,...</td>\n",
       "    </tr>\n",
       "    <tr>\n",
       "      <th>2</th>\n",
       "      <td>Action,Adventure</td>\n",
       "      <td>[706, 4413, 5344, 6076, 6782, 6912, 7049, 7076...</td>\n",
       "    </tr>\n",
       "    <tr>\n",
       "      <th>3</th>\n",
       "      <td>Action,Adventure,Animation</td>\n",
       "      <td>[37180, 111427]</td>\n",
       "    </tr>\n",
       "    <tr>\n",
       "      <th>4</th>\n",
       "      <td>Action,Adventure,Animation,Children,Comedy</td>\n",
       "      <td>[2925, 8362, 19440, 26990, 30508, 40257, 41434...</td>\n",
       "    </tr>\n",
       "    <tr>\n",
       "      <th>5</th>\n",
       "      <td>Action,Adventure,Animation,Children,Fantasy</td>\n",
       "      <td>[46376, 131404]</td>\n",
       "    </tr>\n",
       "    <tr>\n",
       "      <th>6</th>\n",
       "      <td>Action,Adventure,Animation,Drama,Fantasy</td>\n",
       "      <td>[9795, 22698, 25290, 49480, 75664, 117741]</td>\n",
       "    </tr>\n",
       "    <tr>\n",
       "      <th>7</th>\n",
       "      <td>Action,Adventure,Animation,Horror,Sci-Fi</td>\n",
       "      <td>[16191, 34142, 54776, 59640, 69997, 75472, 768...</td>\n",
       "    </tr>\n",
       "    <tr>\n",
       "      <th>8</th>\n",
       "      <td>Action,Adventure,Animation,Sci-Fi</td>\n",
       "      <td>[50049, 65746, 73687, 117329, 135976]</td>\n",
       "    </tr>\n",
       "    <tr>\n",
       "      <th>9</th>\n",
       "      <td>Action,Adventure,Children,Comedy,Fantasy</td>\n",
       "      <td>[121050]</td>\n",
       "    </tr>\n",
       "    <tr>\n",
       "      <th>10</th>\n",
       "      <td>Action,Adventure,Children,Comedy,Fantasy,Sci-Fi</td>\n",
       "      <td>[49527, 125140]</td>\n",
       "    </tr>\n",
       "    <tr>\n",
       "      <th>11</th>\n",
       "      <td>Action,Adventure,Comedy</td>\n",
       "      <td>[11609, 12168, 16896, 16930, 18980, 23030, 240...</td>\n",
       "    </tr>\n",
       "    <tr>\n",
       "      <th>12</th>\n",
       "      <td>Action,Adventure,Comedy,Crime</td>\n",
       "      <td>[2160, 2239, 3363, 7231, 7797, 8518, 10639, 10...</td>\n",
       "    </tr>\n",
       "    <tr>\n",
       "      <th>13</th>\n",
       "      <td>Action,Adventure,Comedy,Fantasy</td>\n",
       "      <td>[1484, 6399, 6406, 10376, 10537, 11638, 19578,...</td>\n",
       "    </tr>\n",
       "    <tr>\n",
       "      <th>14</th>\n",
       "      <td>Action,Adventure,Comedy,Fantasy,Horror</td>\n",
       "      <td>[12862, 67070, 91199]</td>\n",
       "    </tr>\n",
       "    <tr>\n",
       "      <th>15</th>\n",
       "      <td>Action,Adventure,Comedy,Fantasy,Horror,Thriller</td>\n",
       "      <td>[128163]</td>\n",
       "    </tr>\n",
       "    <tr>\n",
       "      <th>16</th>\n",
       "      <td>Action,Adventure,Comedy,Fantasy,Romance</td>\n",
       "      <td>[4473, 5265, 20393, 23389, 42765, 45961, 61599...</td>\n",
       "    </tr>\n",
       "    <tr>\n",
       "      <th>17</th>\n",
       "      <td>Action,Adventure,Comedy,Romance</td>\n",
       "      <td>[2997, 9599, 20652, 24495, 26878, 29155, 33882...</td>\n",
       "    </tr>\n",
       "    <tr>\n",
       "      <th>18</th>\n",
       "      <td>Action,Adventure,Comedy,Romance,Thriller</td>\n",
       "      <td>[908, 3498, 12750, 41800, 94284]</td>\n",
       "    </tr>\n",
       "    <tr>\n",
       "      <th>19</th>\n",
       "      <td>Action,Adventure,Comedy,Sci-Fi</td>\n",
       "      <td>[10029, 18207, 46782, 51534, 57721, 60415, 635...</td>\n",
       "    </tr>\n",
       "  </tbody>\n",
       "</table>\n",
       "</div>"
      ],
      "text/plain": [
       "                                          fav_genre  \\\n",
       "0                                  (nogenreslisted)   \n",
       "1                                            Action   \n",
       "2                                  Action,Adventure   \n",
       "3                        Action,Adventure,Animation   \n",
       "4        Action,Adventure,Animation,Children,Comedy   \n",
       "5       Action,Adventure,Animation,Children,Fantasy   \n",
       "6          Action,Adventure,Animation,Drama,Fantasy   \n",
       "7          Action,Adventure,Animation,Horror,Sci-Fi   \n",
       "8                 Action,Adventure,Animation,Sci-Fi   \n",
       "9          Action,Adventure,Children,Comedy,Fantasy   \n",
       "10  Action,Adventure,Children,Comedy,Fantasy,Sci-Fi   \n",
       "11                          Action,Adventure,Comedy   \n",
       "12                    Action,Adventure,Comedy,Crime   \n",
       "13                  Action,Adventure,Comedy,Fantasy   \n",
       "14           Action,Adventure,Comedy,Fantasy,Horror   \n",
       "15  Action,Adventure,Comedy,Fantasy,Horror,Thriller   \n",
       "16          Action,Adventure,Comedy,Fantasy,Romance   \n",
       "17                  Action,Adventure,Comedy,Romance   \n",
       "18         Action,Adventure,Comedy,Romance,Thriller   \n",
       "19                   Action,Adventure,Comedy,Sci-Fi   \n",
       "\n",
       "                                        genre_cluster  \n",
       "0                        [5921, 51483, 90439, 103148]  \n",
       "1   [1793, 1906, 7072, 10861, 13639, 15387, 19375,...  \n",
       "2   [706, 4413, 5344, 6076, 6782, 6912, 7049, 7076...  \n",
       "3                                     [37180, 111427]  \n",
       "4   [2925, 8362, 19440, 26990, 30508, 40257, 41434...  \n",
       "5                                     [46376, 131404]  \n",
       "6          [9795, 22698, 25290, 49480, 75664, 117741]  \n",
       "7   [16191, 34142, 54776, 59640, 69997, 75472, 768...  \n",
       "8               [50049, 65746, 73687, 117329, 135976]  \n",
       "9                                            [121050]  \n",
       "10                                    [49527, 125140]  \n",
       "11  [11609, 12168, 16896, 16930, 18980, 23030, 240...  \n",
       "12  [2160, 2239, 3363, 7231, 7797, 8518, 10639, 10...  \n",
       "13  [1484, 6399, 6406, 10376, 10537, 11638, 19578,...  \n",
       "14                              [12862, 67070, 91199]  \n",
       "15                                           [128163]  \n",
       "16  [4473, 5265, 20393, 23389, 42765, 45961, 61599...  \n",
       "17  [2997, 9599, 20652, 24495, 26878, 29155, 33882...  \n",
       "18                   [908, 3498, 12750, 41800, 94284]  \n",
       "19  [10029, 18207, 46782, 51534, 57721, 60415, 635...  "
      ]
     },
     "execution_count": 61,
     "metadata": {},
     "output_type": "execute_result"
    }
   ],
   "source": [
    "fav_genre_grps.head(20)"
   ]
  },
  {
   "cell_type": "code",
   "execution_count": 60,
   "id": "systematic-buffer",
   "metadata": {},
   "outputs": [
    {
     "name": "stdout",
     "output_type": "stream",
     "text": [
      "<class 'pandas.core.frame.DataFrame'>\n",
      "RangeIndex: 383 entries, 0 to 382\n",
      "Data columns (total 2 columns):\n",
      " #   Column         Non-Null Count  Dtype \n",
      "---  ------         --------------  ----- \n",
      " 0   fav_genre      383 non-null    object\n",
      " 1   genre_cluster  383 non-null    object\n",
      "dtypes: object(2)\n",
      "memory usage: 6.1+ KB\n"
     ]
    }
   ],
   "source": [
    "fav_genre_grps.info()"
   ]
  },
  {
   "cell_type": "markdown",
   "id": "encouraging-freeze",
   "metadata": {},
   "source": [
    "# Pickling the Necessary DataFrames - The structure of these files wont allow to be saved as a SQL table. Also it's not wise to normalize this data because it will only add to data latency"
   ]
  },
  {
   "cell_type": "code",
   "execution_count": 54,
   "id": "wrong-david",
   "metadata": {},
   "outputs": [],
   "source": [
    "import pickle\n",
    "pickle.dump(fav_genre_grps,open('fav_genre_usergrps.pkl','wb'))\n",
    "pickle.dump(movies_favGenre_data,open('movies_favGenre_data.pkl','wb'))"
   ]
  },
  {
   "cell_type": "markdown",
   "id": "neural-taste",
   "metadata": {},
   "source": [
    "# Creating Data for User Sentiment analysis"
   ]
  },
  {
   "cell_type": "code",
   "execution_count": 24,
   "id": "brazilian-falls",
   "metadata": {},
   "outputs": [],
   "source": [
    "tags_data = pd.merge(movies_by_users_grouped,genres_by_users_grouped,on = 'userId')\n"
   ]
  },
  {
   "cell_type": "code",
   "execution_count": 26,
   "id": "ceramic-prison",
   "metadata": {},
   "outputs": [
    {
     "name": "stdout",
     "output_type": "stream",
     "text": [
      "<class 'pandas.core.frame.DataFrame'>\n",
      "Int64Index: 162342 entries, 0 to 162341\n",
      "Data columns (total 3 columns):\n",
      " #   Column  Non-Null Count   Dtype \n",
      "---  ------  --------------   ----- \n",
      " 0   userId  162342 non-null  int64 \n",
      " 1   movies  162342 non-null  object\n",
      " 2   genres  162342 non-null  object\n",
      "dtypes: int64(1), object(2)\n",
      "memory usage: 5.0+ MB\n"
     ]
    }
   ],
   "source": [
    "tags_data.info()"
   ]
  },
  {
   "cell_type": "code",
   "execution_count": 30,
   "id": "acknowledged-reader",
   "metadata": {},
   "outputs": [
    {
     "name": "stdout",
     "output_type": "stream",
     "text": [
      "<class 'pandas.core.frame.DataFrame'>\n",
      "RangeIndex: 1093360 entries, 0 to 1093359\n",
      "Data columns (total 3 columns):\n",
      " #   Column   Non-Null Count    Dtype \n",
      "---  ------   --------------    ----- \n",
      " 0   userId   1093360 non-null  int64 \n",
      " 1   movieId  1093360 non-null  int64 \n",
      " 2   tag      1093344 non-null  object\n",
      "dtypes: int64(2), object(1)\n",
      "memory usage: 25.0+ MB\n"
     ]
    }
   ],
   "source": [
    "tags.info()"
   ]
  },
  {
   "cell_type": "code",
   "execution_count": 31,
   "id": "square-opposition",
   "metadata": {},
   "outputs": [],
   "source": [
    "tags.insert(1, \"combo\", 0)"
   ]
  },
  {
   "cell_type": "code",
   "execution_count": 34,
   "id": "unauthorized-spell",
   "metadata": {},
   "outputs": [
    {
     "data": {
      "text/html": [
       "<div>\n",
       "<style scoped>\n",
       "    .dataframe tbody tr th:only-of-type {\n",
       "        vertical-align: middle;\n",
       "    }\n",
       "\n",
       "    .dataframe tbody tr th {\n",
       "        vertical-align: top;\n",
       "    }\n",
       "\n",
       "    .dataframe thead th {\n",
       "        text-align: right;\n",
       "    }\n",
       "</style>\n",
       "<table border=\"1\" class=\"dataframe\">\n",
       "  <thead>\n",
       "    <tr style=\"text-align: right;\">\n",
       "      <th></th>\n",
       "      <th>userId</th>\n",
       "      <th>combo</th>\n",
       "      <th>movieId</th>\n",
       "      <th>tag</th>\n",
       "    </tr>\n",
       "  </thead>\n",
       "  <tbody>\n",
       "    <tr>\n",
       "      <th>0</th>\n",
       "      <td>3</td>\n",
       "      <td>263</td>\n",
       "      <td>260</td>\n",
       "      <td>classic</td>\n",
       "    </tr>\n",
       "    <tr>\n",
       "      <th>1</th>\n",
       "      <td>3</td>\n",
       "      <td>263</td>\n",
       "      <td>260</td>\n",
       "      <td>sci-fi</td>\n",
       "    </tr>\n",
       "    <tr>\n",
       "      <th>2</th>\n",
       "      <td>4</td>\n",
       "      <td>1736</td>\n",
       "      <td>1732</td>\n",
       "      <td>dark comedy</td>\n",
       "    </tr>\n",
       "    <tr>\n",
       "      <th>3</th>\n",
       "      <td>4</td>\n",
       "      <td>1736</td>\n",
       "      <td>1732</td>\n",
       "      <td>great dialogue</td>\n",
       "    </tr>\n",
       "    <tr>\n",
       "      <th>4</th>\n",
       "      <td>4</td>\n",
       "      <td>7573</td>\n",
       "      <td>7569</td>\n",
       "      <td>so bad it's good</td>\n",
       "    </tr>\n",
       "  </tbody>\n",
       "</table>\n",
       "</div>"
      ],
      "text/plain": [
       "   userId  combo  movieId               tag\n",
       "0       3    263      260           classic\n",
       "1       3    263      260            sci-fi\n",
       "2       4   1736     1732       dark comedy\n",
       "3       4   1736     1732    great dialogue\n",
       "4       4   7573     7569  so bad it's good"
      ]
     },
     "execution_count": 34,
     "metadata": {},
     "output_type": "execute_result"
    }
   ],
   "source": [
    "tags.head()"
   ]
  },
  {
   "cell_type": "code",
   "execution_count": 33,
   "id": "connected-daily",
   "metadata": {},
   "outputs": [],
   "source": [
    "tags['combo'] = tags['userId']+tags['movieId']"
   ]
  },
  {
   "cell_type": "code",
   "execution_count": 35,
   "id": "elementary-analysis",
   "metadata": {},
   "outputs": [],
   "source": [
    "tracker = tags.drop(['tag','movieId'],axis=1)"
   ]
  },
  {
   "cell_type": "code",
   "execution_count": 36,
   "id": "australian-attention",
   "metadata": {},
   "outputs": [],
   "source": [
    "new_tags = tags.drop(['userId','movieId'],axis=1)"
   ]
  },
  {
   "cell_type": "code",
   "execution_count": 37,
   "id": "close-worth",
   "metadata": {},
   "outputs": [],
   "source": [
    "comments_by_movieid = new_tags.groupby('combo')['tag'].apply(list).reset_index(name='comments')"
   ]
  },
  {
   "cell_type": "code",
   "execution_count": 38,
   "id": "determined-contributor",
   "metadata": {},
   "outputs": [
    {
     "data": {
      "text/html": [
       "<div>\n",
       "<style scoped>\n",
       "    .dataframe tbody tr th:only-of-type {\n",
       "        vertical-align: middle;\n",
       "    }\n",
       "\n",
       "    .dataframe tbody tr th {\n",
       "        vertical-align: top;\n",
       "    }\n",
       "\n",
       "    .dataframe thead th {\n",
       "        text-align: right;\n",
       "    }\n",
       "</style>\n",
       "<table border=\"1\" class=\"dataframe\">\n",
       "  <thead>\n",
       "    <tr style=\"text-align: right;\">\n",
       "      <th></th>\n",
       "      <th>combo</th>\n",
       "      <th>comments</th>\n",
       "    </tr>\n",
       "  </thead>\n",
       "  <tbody>\n",
       "    <tr>\n",
       "      <th>0</th>\n",
       "      <td>213</td>\n",
       "      <td>[funny]</td>\n",
       "    </tr>\n",
       "    <tr>\n",
       "      <th>1</th>\n",
       "      <td>250</td>\n",
       "      <td>[chick flick]</td>\n",
       "    </tr>\n",
       "    <tr>\n",
       "      <th>2</th>\n",
       "      <td>263</td>\n",
       "      <td>[classic, sci-fi]</td>\n",
       "    </tr>\n",
       "    <tr>\n",
       "      <th>3</th>\n",
       "      <td>306</td>\n",
       "      <td>[bittersweet, boring, conversation, dialogue d...</td>\n",
       "    </tr>\n",
       "    <tr>\n",
       "      <th>4</th>\n",
       "      <td>370</td>\n",
       "      <td>[action, adventure, fantasy, space adventure]</td>\n",
       "    </tr>\n",
       "  </tbody>\n",
       "</table>\n",
       "</div>"
      ],
      "text/plain": [
       "   combo                                           comments\n",
       "0    213                                            [funny]\n",
       "1    250                                      [chick flick]\n",
       "2    263                                  [classic, sci-fi]\n",
       "3    306  [bittersweet, boring, conversation, dialogue d...\n",
       "4    370      [action, adventure, fantasy, space adventure]"
      ]
     },
     "execution_count": 38,
     "metadata": {},
     "output_type": "execute_result"
    }
   ],
   "source": [
    "comments_by_movieid.head()"
   ]
  },
  {
   "cell_type": "code",
   "execution_count": 41,
   "id": "quarterly-battlefield",
   "metadata": {},
   "outputs": [],
   "source": [
    "final_tags = pd.merge(comments_by_movieid,tracker,on='combo',how='left')"
   ]
  },
  {
   "cell_type": "code",
   "execution_count": 42,
   "id": "informal-pickup",
   "metadata": {},
   "outputs": [
    {
     "data": {
      "text/html": [
       "<div>\n",
       "<style scoped>\n",
       "    .dataframe tbody tr th:only-of-type {\n",
       "        vertical-align: middle;\n",
       "    }\n",
       "\n",
       "    .dataframe tbody tr th {\n",
       "        vertical-align: top;\n",
       "    }\n",
       "\n",
       "    .dataframe thead th {\n",
       "        text-align: right;\n",
       "    }\n",
       "</style>\n",
       "<table border=\"1\" class=\"dataframe\">\n",
       "  <thead>\n",
       "    <tr style=\"text-align: right;\">\n",
       "      <th></th>\n",
       "      <th>combo</th>\n",
       "      <th>comments</th>\n",
       "      <th>movieId</th>\n",
       "      <th>userId</th>\n",
       "    </tr>\n",
       "  </thead>\n",
       "  <tbody>\n",
       "    <tr>\n",
       "      <th>0</th>\n",
       "      <td>213</td>\n",
       "      <td>[funny]</td>\n",
       "      <td>3</td>\n",
       "      <td>210</td>\n",
       "    </tr>\n",
       "    <tr>\n",
       "      <th>1</th>\n",
       "      <td>250</td>\n",
       "      <td>[chick flick]</td>\n",
       "      <td>17</td>\n",
       "      <td>233</td>\n",
       "    </tr>\n",
       "    <tr>\n",
       "      <th>2</th>\n",
       "      <td>263</td>\n",
       "      <td>[classic, sci-fi]</td>\n",
       "      <td>260</td>\n",
       "      <td>3</td>\n",
       "    </tr>\n",
       "    <tr>\n",
       "      <th>3</th>\n",
       "      <td>263</td>\n",
       "      <td>[classic, sci-fi]</td>\n",
       "      <td>260</td>\n",
       "      <td>3</td>\n",
       "    </tr>\n",
       "    <tr>\n",
       "      <th>4</th>\n",
       "      <td>306</td>\n",
       "      <td>[bittersweet, boring, conversation, dialogue d...</td>\n",
       "      <td>215</td>\n",
       "      <td>91</td>\n",
       "    </tr>\n",
       "  </tbody>\n",
       "</table>\n",
       "</div>"
      ],
      "text/plain": [
       "   combo                                           comments  movieId  userId\n",
       "0    213                                            [funny]        3     210\n",
       "1    250                                      [chick flick]       17     233\n",
       "2    263                                  [classic, sci-fi]      260       3\n",
       "3    263                                  [classic, sci-fi]      260       3\n",
       "4    306  [bittersweet, boring, conversation, dialogue d...      215      91"
      ]
     },
     "execution_count": 42,
     "metadata": {},
     "output_type": "execute_result"
    }
   ],
   "source": [
    "final_tags.insert(2,\"movieId\",0)\n",
    "final_tags['movieId'] = final_tags.combo - final_tags.userId\n",
    "final_tags.head()"
   ]
  },
  {
   "cell_type": "code",
   "execution_count": 43,
   "id": "iraqi-booking",
   "metadata": {},
   "outputs": [],
   "source": [
    "final_tags.drop(['combo'],axis=1,inplace=True)"
   ]
  },
  {
   "cell_type": "code",
   "execution_count": 44,
   "id": "cathedral-collins",
   "metadata": {},
   "outputs": [
    {
     "name": "stdout",
     "output_type": "stream",
     "text": [
      "<class 'pandas.core.frame.DataFrame'>\n",
      "Int64Index: 1093360 entries, 0 to 1093359\n",
      "Data columns (total 3 columns):\n",
      " #   Column    Non-Null Count    Dtype \n",
      "---  ------    --------------    ----- \n",
      " 0   comments  1093360 non-null  object\n",
      " 1   movieId   1093360 non-null  int64 \n",
      " 2   userId    1093360 non-null  int64 \n",
      "dtypes: int64(2), object(1)\n",
      "memory usage: 33.4+ MB\n"
     ]
    }
   ],
   "source": [
    "final_tags.info()"
   ]
  },
  {
   "cell_type": "code",
   "execution_count": 45,
   "id": "frank-morris",
   "metadata": {},
   "outputs": [
    {
     "name": "stdout",
     "output_type": "stream",
     "text": [
      "<class 'pandas.core.frame.DataFrame'>\n",
      "RangeIndex: 25000095 entries, 0 to 25000094\n",
      "Data columns (total 4 columns):\n",
      " #   Column     Dtype   \n",
      "---  ------     -----   \n",
      " 0   userId     int64   \n",
      " 1   movieId    category\n",
      " 2   rating     float64 \n",
      " 3   timestamp  int64   \n",
      "dtypes: category(1), float64(1), int64(2)\n",
      "memory usage: 670.0 MB\n"
     ]
    }
   ],
   "source": [
    "ratings_data.info()"
   ]
  },
  {
   "cell_type": "code",
   "execution_count": 46,
   "id": "cellular-vector",
   "metadata": {},
   "outputs": [
    {
     "data": {
      "text/html": [
       "<div>\n",
       "<style scoped>\n",
       "    .dataframe tbody tr th:only-of-type {\n",
       "        vertical-align: middle;\n",
       "    }\n",
       "\n",
       "    .dataframe tbody tr th {\n",
       "        vertical-align: top;\n",
       "    }\n",
       "\n",
       "    .dataframe thead th {\n",
       "        text-align: right;\n",
       "    }\n",
       "</style>\n",
       "<table border=\"1\" class=\"dataframe\">\n",
       "  <thead>\n",
       "    <tr style=\"text-align: right;\">\n",
       "      <th></th>\n",
       "      <th>userId</th>\n",
       "      <th>movies</th>\n",
       "      <th>genres</th>\n",
       "    </tr>\n",
       "  </thead>\n",
       "  <tbody>\n",
       "    <tr>\n",
       "      <th>0</th>\n",
       "      <td>1</td>\n",
       "      <td>[Pulp Fiction (1994), Three Colors: Blue (Troi...</td>\n",
       "      <td>[Comedy|Crime|Drama|Thriller, Drama, Comedy|Dr...</td>\n",
       "    </tr>\n",
       "    <tr>\n",
       "      <th>1</th>\n",
       "      <td>2</td>\n",
       "      <td>[Braveheart (1995), Apollo 13 (1995), Rob Roy ...</td>\n",
       "      <td>[Action|Drama|War, Adventure|Drama|IMAX, Actio...</td>\n",
       "    </tr>\n",
       "    <tr>\n",
       "      <th>2</th>\n",
       "      <td>3</td>\n",
       "      <td>[Toy Story (1995), City of Lost Children, The ...</td>\n",
       "      <td>[Adventure|Animation|Children|Comedy|Fantasy, ...</td>\n",
       "    </tr>\n",
       "    <tr>\n",
       "      <th>3</th>\n",
       "      <td>4</td>\n",
       "      <td>[Pulp Fiction (1994), Blade Runner (1982), Ter...</td>\n",
       "      <td>[Comedy|Crime|Drama|Thriller, Action|Sci-Fi|Th...</td>\n",
       "    </tr>\n",
       "    <tr>\n",
       "      <th>4</th>\n",
       "      <td>5</td>\n",
       "      <td>[Toy Story (1995), Ace Ventura: When Nature Ca...</td>\n",
       "      <td>[Adventure|Animation|Children|Comedy|Fantasy, ...</td>\n",
       "    </tr>\n",
       "  </tbody>\n",
       "</table>\n",
       "</div>"
      ],
      "text/plain": [
       "   userId                                             movies  \\\n",
       "0       1  [Pulp Fiction (1994), Three Colors: Blue (Troi...   \n",
       "1       2  [Braveheart (1995), Apollo 13 (1995), Rob Roy ...   \n",
       "2       3  [Toy Story (1995), City of Lost Children, The ...   \n",
       "3       4  [Pulp Fiction (1994), Blade Runner (1982), Ter...   \n",
       "4       5  [Toy Story (1995), Ace Ventura: When Nature Ca...   \n",
       "\n",
       "                                              genres  \n",
       "0  [Comedy|Crime|Drama|Thriller, Drama, Comedy|Dr...  \n",
       "1  [Action|Drama|War, Adventure|Drama|IMAX, Actio...  \n",
       "2  [Adventure|Animation|Children|Comedy|Fantasy, ...  \n",
       "3  [Comedy|Crime|Drama|Thriller, Action|Sci-Fi|Th...  \n",
       "4  [Adventure|Animation|Children|Comedy|Fantasy, ...  "
      ]
     },
     "execution_count": 46,
     "metadata": {},
     "output_type": "execute_result"
    }
   ],
   "source": [
    "tags_data.head()"
   ]
  },
  {
   "cell_type": "code",
   "execution_count": null,
   "id": "stretch-configuration",
   "metadata": {},
   "outputs": [],
   "source": []
  },
  {
   "cell_type": "code",
   "execution_count": 47,
   "id": "vital-postage",
   "metadata": {},
   "outputs": [],
   "source": [
    "tags_data['genres'] = tags_data['genres'].apply(lambda x:[i.replace(\" \",\"\") for i in x])"
   ]
  },
  {
   "cell_type": "code",
   "execution_count": 48,
   "id": "relative-single",
   "metadata": {},
   "outputs": [],
   "source": [
    "tags_data['movies'] = tags_data['movies'].apply(lambda x:[i.replace(\" \",\"\") for i in x])"
   ]
  },
  {
   "cell_type": "code",
   "execution_count": 51,
   "id": "different-alexander",
   "metadata": {},
   "outputs": [],
   "source": [
    "tags_data['tags'] = tags_data.movies + tags_data.genres"
   ]
  },
  {
   "cell_type": "code",
   "execution_count": 53,
   "id": "conservative-raleigh",
   "metadata": {},
   "outputs": [],
   "source": [
    "new_df = tags_data[['userId','tags']]"
   ]
  },
  {
   "cell_type": "markdown",
   "id": "junior-occurrence",
   "metadata": {},
   "source": [
    "### Tags created for NLP, Not required for the project related tasks.."
   ]
  },
  {
   "cell_type": "code",
   "execution_count": 54,
   "id": "suburban-first",
   "metadata": {},
   "outputs": [
    {
     "data": {
      "text/html": [
       "<div>\n",
       "<style scoped>\n",
       "    .dataframe tbody tr th:only-of-type {\n",
       "        vertical-align: middle;\n",
       "    }\n",
       "\n",
       "    .dataframe tbody tr th {\n",
       "        vertical-align: top;\n",
       "    }\n",
       "\n",
       "    .dataframe thead th {\n",
       "        text-align: right;\n",
       "    }\n",
       "</style>\n",
       "<table border=\"1\" class=\"dataframe\">\n",
       "  <thead>\n",
       "    <tr style=\"text-align: right;\">\n",
       "      <th></th>\n",
       "      <th>userId</th>\n",
       "      <th>tags</th>\n",
       "    </tr>\n",
       "  </thead>\n",
       "  <tbody>\n",
       "    <tr>\n",
       "      <th>0</th>\n",
       "      <td>1</td>\n",
       "      <td>[PulpFiction(1994), ThreeColors:Blue(Troiscoul...</td>\n",
       "    </tr>\n",
       "    <tr>\n",
       "      <th>1</th>\n",
       "      <td>2</td>\n",
       "      <td>[Braveheart(1995), Apollo13(1995), RobRoy(1995...</td>\n",
       "    </tr>\n",
       "    <tr>\n",
       "      <th>2</th>\n",
       "      <td>3</td>\n",
       "      <td>[ToyStory(1995), CityofLostChildren,The(Citéde...</td>\n",
       "    </tr>\n",
       "    <tr>\n",
       "      <th>3</th>\n",
       "      <td>4</td>\n",
       "      <td>[PulpFiction(1994), BladeRunner(1982), Termina...</td>\n",
       "    </tr>\n",
       "    <tr>\n",
       "      <th>4</th>\n",
       "      <td>5</td>\n",
       "      <td>[ToyStory(1995), AceVentura:WhenNatureCalls(19...</td>\n",
       "    </tr>\n",
       "  </tbody>\n",
       "</table>\n",
       "</div>"
      ],
      "text/plain": [
       "   userId                                               tags\n",
       "0       1  [PulpFiction(1994), ThreeColors:Blue(Troiscoul...\n",
       "1       2  [Braveheart(1995), Apollo13(1995), RobRoy(1995...\n",
       "2       3  [ToyStory(1995), CityofLostChildren,The(Citéde...\n",
       "3       4  [PulpFiction(1994), BladeRunner(1982), Termina...\n",
       "4       5  [ToyStory(1995), AceVentura:WhenNatureCalls(19..."
      ]
     },
     "execution_count": 54,
     "metadata": {},
     "output_type": "execute_result"
    }
   ],
   "source": [
    "new_df.head()"
   ]
  },
  {
   "cell_type": "code",
   "execution_count": null,
   "id": "metallic-gentleman",
   "metadata": {},
   "outputs": [],
   "source": [
    "new_df['tags'] = new_df['tags'].apply(lambda x:\" \".join(x))\n",
    "new_df['tags'] = new_df['tags'].apply(lambda x:x.lower())"
   ]
  },
  {
   "cell_type": "code",
   "execution_count": 58,
   "id": "infrared-roots",
   "metadata": {},
   "outputs": [],
   "source": [
    "import pickle\n",
    "pickle.dump(new_df,open('tags_data.pkl','wb'))"
   ]
  },
  {
   "cell_type": "code",
   "execution_count": 62,
   "id": "numeric-making",
   "metadata": {},
   "outputs": [
    {
     "data": {
      "text/html": [
       "<div>\n",
       "<style scoped>\n",
       "    .dataframe tbody tr th:only-of-type {\n",
       "        vertical-align: middle;\n",
       "    }\n",
       "\n",
       "    .dataframe tbody tr th {\n",
       "        vertical-align: top;\n",
       "    }\n",
       "\n",
       "    .dataframe thead th {\n",
       "        text-align: right;\n",
       "    }\n",
       "</style>\n",
       "<table border=\"1\" class=\"dataframe\">\n",
       "  <thead>\n",
       "    <tr style=\"text-align: right;\">\n",
       "      <th></th>\n",
       "      <th>userId</th>\n",
       "      <th>movieId</th>\n",
       "      <th>rating</th>\n",
       "      <th>timestamp</th>\n",
       "    </tr>\n",
       "  </thead>\n",
       "  <tbody>\n",
       "    <tr>\n",
       "      <th>0</th>\n",
       "      <td>1</td>\n",
       "      <td>296</td>\n",
       "      <td>5.0</td>\n",
       "      <td>1147880044</td>\n",
       "    </tr>\n",
       "    <tr>\n",
       "      <th>1</th>\n",
       "      <td>1</td>\n",
       "      <td>306</td>\n",
       "      <td>3.5</td>\n",
       "      <td>1147868817</td>\n",
       "    </tr>\n",
       "    <tr>\n",
       "      <th>2</th>\n",
       "      <td>1</td>\n",
       "      <td>307</td>\n",
       "      <td>5.0</td>\n",
       "      <td>1147868828</td>\n",
       "    </tr>\n",
       "    <tr>\n",
       "      <th>3</th>\n",
       "      <td>1</td>\n",
       "      <td>665</td>\n",
       "      <td>5.0</td>\n",
       "      <td>1147878820</td>\n",
       "    </tr>\n",
       "    <tr>\n",
       "      <th>4</th>\n",
       "      <td>1</td>\n",
       "      <td>899</td>\n",
       "      <td>3.5</td>\n",
       "      <td>1147868510</td>\n",
       "    </tr>\n",
       "  </tbody>\n",
       "</table>\n",
       "</div>"
      ],
      "text/plain": [
       "   userId movieId  rating   timestamp\n",
       "0       1     296     5.0  1147880044\n",
       "1       1     306     3.5  1147868817\n",
       "2       1     307     5.0  1147868828\n",
       "3       1     665     5.0  1147878820\n",
       "4       1     899     3.5  1147868510"
      ]
     },
     "execution_count": 62,
     "metadata": {},
     "output_type": "execute_result"
    }
   ],
   "source": [
    "ratings_data.head()\n"
   ]
  },
  {
   "cell_type": "code",
   "execution_count": 66,
   "id": "excellent-ownership",
   "metadata": {},
   "outputs": [
    {
     "data": {
      "text/plain": [
       "3.5"
      ]
     },
     "execution_count": 66,
     "metadata": {},
     "output_type": "execute_result"
    }
   ],
   "source": [
    "ratings_data.rating[(ratings_data.userId==1) & (ratings_data.movieId==306)][1]"
   ]
  },
  {
   "cell_type": "code",
   "execution_count": 68,
   "id": "automated-device",
   "metadata": {},
   "outputs": [],
   "source": [
    "pickle.dump(ratings_data,open('ratings.pkl','wb'))"
   ]
  },
  {
   "cell_type": "code",
   "execution_count": 80,
   "id": "encouraging-hospital",
   "metadata": {},
   "outputs": [
    {
     "data": {
      "text/plain": [
       "51787    183901\n",
       "Name: movieId, dtype: int64"
      ]
     },
     "execution_count": 80,
     "metadata": {},
     "output_type": "execute_result"
    }
   ],
   "source": [
    "movies_data.movieId[movies_data.title==\"#Captured (2017)\"]"
   ]
  },
  {
   "cell_type": "code",
   "execution_count": 86,
   "id": "outstanding-messaging",
   "metadata": {},
   "outputs": [
    {
     "data": {
      "text/plain": [
       "183901"
      ]
     },
     "execution_count": 86,
     "metadata": {},
     "output_type": "execute_result"
    }
   ],
   "source": [
    "z = movies_data[movies_data.title==\"#Captured (2017)\"].index[0]\n",
    "movies_data.movieId[z]"
   ]
  },
  {
   "cell_type": "code",
   "execution_count": 88,
   "id": "close-edinburgh",
   "metadata": {},
   "outputs": [
    {
     "data": {
      "text/html": [
       "<div>\n",
       "<style scoped>\n",
       "    .dataframe tbody tr th:only-of-type {\n",
       "        vertical-align: middle;\n",
       "    }\n",
       "\n",
       "    .dataframe tbody tr th {\n",
       "        vertical-align: top;\n",
       "    }\n",
       "\n",
       "    .dataframe thead th {\n",
       "        text-align: right;\n",
       "    }\n",
       "</style>\n",
       "<table border=\"1\" class=\"dataframe\">\n",
       "  <thead>\n",
       "    <tr style=\"text-align: right;\">\n",
       "      <th></th>\n",
       "      <th>movieId</th>\n",
       "      <th>title</th>\n",
       "      <th>genres</th>\n",
       "    </tr>\n",
       "  </thead>\n",
       "  <tbody>\n",
       "    <tr>\n",
       "      <th>292</th>\n",
       "      <td>296</td>\n",
       "      <td>Pulp Fiction (1994)</td>\n",
       "      <td>Comedy|Crime|Drama|Thriller</td>\n",
       "    </tr>\n",
       "  </tbody>\n",
       "</table>\n",
       "</div>"
      ],
      "text/plain": [
       "     movieId                title                       genres\n",
       "292      296  Pulp Fiction (1994)  Comedy|Crime|Drama|Thriller"
      ]
     },
     "execution_count": 88,
     "metadata": {},
     "output_type": "execute_result"
    }
   ],
   "source": [
    "movies_data.loc[movies_data.movieId==296]"
   ]
  }
 ],
 "metadata": {
  "kernelspec": {
   "display_name": "Python 3",
   "language": "python",
   "name": "python3"
  },
  "language_info": {
   "codemirror_mode": {
    "name": "ipython",
    "version": 3
   },
   "file_extension": ".py",
   "mimetype": "text/x-python",
   "name": "python",
   "nbconvert_exporter": "python",
   "pygments_lexer": "ipython3",
   "version": "3.7.1"
  }
 },
 "nbformat": 4,
 "nbformat_minor": 5
}
